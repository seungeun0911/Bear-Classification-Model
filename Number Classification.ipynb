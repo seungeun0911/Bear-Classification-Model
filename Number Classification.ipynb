{
 "cells": [
  {
   "cell_type": "markdown",
   "id": "372128d7-3086-4eb3-bc44-c45ce20278a0",
   "metadata": {
    "tags": []
   },
   "source": [
    "## 숫자 분류기"
   ]
  },
  {
   "cell_type": "code",
   "execution_count": 2,
   "id": "a58f73ec-0c83-4daa-a433-d9454e6d347e",
   "metadata": {},
   "outputs": [
    {
     "data": {
      "text/html": [
       "\n",
       "<style>\n",
       "    /* Turns off some styling */\n",
       "    progress {\n",
       "        /* gets rid of default border in Firefox and Opera. */\n",
       "        border: none;\n",
       "        /* Needs to be in here for Safari polyfill so background images work as expected. */\n",
       "        background-size: auto;\n",
       "    }\n",
       "    progress:not([value]), progress:not([value])::-webkit-progress-bar {\n",
       "        background: repeating-linear-gradient(45deg, #7e7e7e, #7e7e7e 10px, #5c5c5c 10px, #5c5c5c 20px);\n",
       "    }\n",
       "    .progress-bar-interrupted, .progress-bar-interrupted::-webkit-progress-bar {\n",
       "        background: #F44336;\n",
       "    }\n",
       "</style>\n"
      ],
      "text/plain": [
       "<IPython.core.display.HTML object>"
      ]
     },
     "metadata": {},
     "output_type": "display_data"
    },
    {
     "data": {
      "text/html": [
       "\n",
       "    <div>\n",
       "      <progress value='3219456' class='' max='3214948' style='width:300px; height:20px; vertical-align: middle;'></progress>\n",
       "      100.14% [3219456/3214948 00:01&lt;00:00]\n",
       "    </div>\n",
       "    "
      ],
      "text/plain": [
       "<IPython.core.display.HTML object>"
      ]
     },
     "metadata": {},
     "output_type": "display_data"
    }
   ],
   "source": [
    "from fastai.text.all import *\n",
    "\n",
    "path = untar_data(URLs.MNIST_SAMPLE)"
   ]
  },
  {
   "cell_type": "code",
   "execution_count": 4,
   "id": "76026a5d-6929-4bc3-aeee-392ad9053809",
   "metadata": {},
   "outputs": [
    {
     "data": {
      "text/plain": [
       "(#3) [Path('C:/Users/user/.fastai/data/mnist_sample/labels.csv'),Path('C:/Users/user/.fastai/data/mnist_sample/train'),Path('C:/Users/user/.fastai/data/mnist_sample/valid')]"
      ]
     },
     "execution_count": 4,
     "metadata": {},
     "output_type": "execute_result"
    }
   ],
   "source": [
    "path.ls() #l 클래스 객체 반환"
   ]
  },
  {
   "cell_type": "code",
   "execution_count": 5,
   "id": "5a4ebe64-2d65-4045-94de-5f37739c0b91",
   "metadata": {},
   "outputs": [
    {
     "data": {
      "text/plain": [
       "(#2) [Path('C:/Users/user/.fastai/data/mnist_sample/train/3'),Path('C:/Users/user/.fastai/data/mnist_sample/train/7')]"
      ]
     },
     "execution_count": 5,
     "metadata": {},
     "output_type": "execute_result"
    }
   ],
   "source": [
    "(path/'train').ls()"
   ]
  },
  {
   "cell_type": "code",
   "execution_count": 6,
   "id": "cfddf7dd-b6a9-4867-9f1e-95831651be45",
   "metadata": {},
   "outputs": [
    {
     "data": {
      "text/plain": [
       "(#6131) [Path('C:/Users/user/.fastai/data/mnist_sample/train/3/10.png'),Path('C:/Users/user/.fastai/data/mnist_sample/train/3/10000.png'),Path('C:/Users/user/.fastai/data/mnist_sample/train/3/10011.png'),Path('C:/Users/user/.fastai/data/mnist_sample/train/3/10031.png'),Path('C:/Users/user/.fastai/data/mnist_sample/train/3/10034.png'),Path('C:/Users/user/.fastai/data/mnist_sample/train/3/10042.png'),Path('C:/Users/user/.fastai/data/mnist_sample/train/3/10052.png'),Path('C:/Users/user/.fastai/data/mnist_sample/train/3/1007.png'),Path('C:/Users/user/.fastai/data/mnist_sample/train/3/10074.png'),Path('C:/Users/user/.fastai/data/mnist_sample/train/3/10091.png')...]"
      ]
     },
     "execution_count": 6,
     "metadata": {},
     "output_type": "execute_result"
    }
   ],
   "source": [
    "threes = (path/'train'/'3').ls().sorted()\n",
    "sevens = (path/'train'/'7').ls().sorted()\n",
    "threes"
   ]
  },
  {
   "cell_type": "code",
   "execution_count": 14,
   "id": "5fda5c38-20ef-40c5-93d3-ff9adac1002a",
   "metadata": {},
   "outputs": [],
   "source": [
    "from PIL import Image"
   ]
  },
  {
   "cell_type": "code",
   "execution_count": 15,
   "id": "ed9ef774-9e52-4ac0-ab3f-80206f955b13",
   "metadata": {},
   "outputs": [
    {
     "data": {
      "image/png": "[encoded data removed]",
      "text/plain": [
       "<PIL.PngImagePlugin.PngImageFile image mode=L size=28x28>"
      ]
     },
     "execution_count": 15,
     "metadata": {},
     "output_type": "execute_result"
    }
   ],
   "source": [
    "im3_path = threes[1]\n",
    "im3 = Image.open(im3_path)\n",
    "im3"
   ]
  },
  {
   "cell_type": "code",
   "execution_count": 16,
   "id": "612bd151-d959-4b63-8814-098cd1f0bca2",
   "metadata": {},
   "outputs": [
    {
     "data": {
      "text/plain": [
       "array([[  0,   0,   0,   0,   0,   0],\n",
       "       [  0,   0,   0,   0,   0,  29],\n",
       "       [  0,   0,   0,  48, 166, 224],\n",
       "       [  0,  93, 244, 249, 253, 187],\n",
       "       [  0, 107, 253, 253, 230,  48],\n",
       "       [  0,   3,  20,  20,  15,   0]], dtype=uint8)"
      ]
     },
     "execution_count": 16,
     "metadata": {},
     "output_type": "execute_result"
    }
   ],
   "source": [
    "array(im3)[4:10,4:10]"
   ]
  },
  {
   "cell_type": "code",
   "execution_count": 17,
   "id": "a367c8e8-6a8c-4ac4-b7a3-ed6042f4f476",
   "metadata": {},
   "outputs": [
    {
     "data": {
      "text/plain": [
       "tensor([[  0,   0,   0,   0,   0,   0],\n",
       "        [  0,   0,   0,   0,   0,  29],\n",
       "        [  0,   0,   0,  48, 166, 224],\n",
       "        [  0,  93, 244, 249, 253, 187],\n",
       "        [  0, 107, 253, 253, 230,  48],\n",
       "        [  0,   3,  20,  20,  15,   0]], dtype=torch.uint8)"
      ]
     },
     "execution_count": 17,
     "metadata": {},
     "output_type": "execute_result"
    }
   ],
   "source": [
    "tensor(im3)[4:10,4:10]"
   ]
  },
  {
   "cell_type": "code",
   "execution_count": 18,
   "id": "5cec8b6d-242e-4eac-a41c-1307e6e54df4",
   "metadata": {},
   "outputs": [
    {
     "data": {
      "text/html": [
       "<style type=\"text/css\">\n",
       "#T_a206b_row0_col0, #T_a206b_row0_col1, #T_a206b_row0_col2, #T_a206b_row0_col3, #T_a206b_row0_col4, #T_a206b_row0_col5, #T_a206b_row0_col6, #T_a206b_row0_col7, #T_a206b_row0_col8, #T_a206b_row0_col9, #T_a206b_row0_col10, #T_a206b_row0_col11, #T_a206b_row0_col12, #T_a206b_row0_col13, #T_a206b_row0_col14, #T_a206b_row0_col15, #T_a206b_row0_col16, #T_a206b_row0_col17, #T_a206b_row1_col0, #T_a206b_row1_col1, #T_a206b_row1_col2, #T_a206b_row1_col3, #T_a206b_row1_col4, #T_a206b_row1_col15, #T_a206b_row1_col16, #T_a206b_row1_col17, #T_a206b_row2_col0, #T_a206b_row2_col1, #T_a206b_row2_col2, #T_a206b_row2_col15, #T_a206b_row2_col16, #T_a206b_row2_col17, #T_a206b_row3_col0, #T_a206b_row3_col15, #T_a206b_row3_col16, #T_a206b_row3_col17, #T_a206b_row4_col0, #T_a206b_row4_col6, #T_a206b_row4_col7, #T_a206b_row4_col8, #T_a206b_row4_col9, #T_a206b_row4_col10, #T_a206b_row4_col15, #T_a206b_row4_col16, #T_a206b_row4_col17, #T_a206b_row5_col0, #T_a206b_row5_col5, #T_a206b_row5_col6, #T_a206b_row5_col7, #T_a206b_row5_col8, #T_a206b_row5_col9, #T_a206b_row5_col15, #T_a206b_row5_col16, #T_a206b_row5_col17, #T_a206b_row6_col0, #T_a206b_row6_col1, #T_a206b_row6_col2, #T_a206b_row6_col3, #T_a206b_row6_col4, #T_a206b_row6_col5, #T_a206b_row6_col6, #T_a206b_row6_col7, #T_a206b_row6_col8, #T_a206b_row6_col9, #T_a206b_row6_col14, #T_a206b_row6_col15, #T_a206b_row6_col16, #T_a206b_row6_col17, #T_a206b_row7_col0, #T_a206b_row7_col1, #T_a206b_row7_col2, #T_a206b_row7_col3, #T_a206b_row7_col4, #T_a206b_row7_col5, #T_a206b_row7_col6, #T_a206b_row7_col13, #T_a206b_row7_col14, #T_a206b_row7_col15, #T_a206b_row7_col16, #T_a206b_row7_col17, #T_a206b_row8_col0, #T_a206b_row8_col1, #T_a206b_row8_col2, #T_a206b_row8_col3, #T_a206b_row8_col4, #T_a206b_row8_col13, #T_a206b_row8_col14, #T_a206b_row8_col15, #T_a206b_row8_col16, #T_a206b_row8_col17, #T_a206b_row9_col0, #T_a206b_row9_col1, #T_a206b_row9_col2, #T_a206b_row9_col3, #T_a206b_row9_col4, #T_a206b_row9_col16, #T_a206b_row9_col17, #T_a206b_row10_col0, #T_a206b_row10_col1, #T_a206b_row10_col2, #T_a206b_row10_col3, #T_a206b_row10_col4, #T_a206b_row10_col5, #T_a206b_row10_col6, #T_a206b_row10_col17 {\n",
       "  font-size: 6pt;\n",
       "  background-color: #ffffff;\n",
       "  color: #000000;\n",
       "}\n",
       "#T_a206b_row1_col5 {\n",
       "  font-size: 6pt;\n",
       "  background-color: #efefef;\n",
       "  color: #000000;\n",
       "}\n",
       "#T_a206b_row1_col6, #T_a206b_row1_col13 {\n",
       "  font-size: 6pt;\n",
       "  background-color: #7c7c7c;\n",
       "  color: #f1f1f1;\n",
       "}\n",
       "#T_a206b_row1_col7 {\n",
       "  font-size: 6pt;\n",
       "  background-color: #4a4a4a;\n",
       "  color: #f1f1f1;\n",
       "}\n",
       "#T_a206b_row1_col8, #T_a206b_row1_col9, #T_a206b_row1_col10, #T_a206b_row2_col5, #T_a206b_row2_col6, #T_a206b_row2_col7, #T_a206b_row2_col11, #T_a206b_row2_col12, #T_a206b_row2_col13, #T_a206b_row3_col4, #T_a206b_row3_col12, #T_a206b_row3_col13, #T_a206b_row4_col1, #T_a206b_row4_col2, #T_a206b_row4_col3, #T_a206b_row4_col12, #T_a206b_row4_col13, #T_a206b_row5_col12, #T_a206b_row6_col11, #T_a206b_row9_col11, #T_a206b_row10_col11, #T_a206b_row10_col12, #T_a206b_row10_col13, #T_a206b_row10_col14, #T_a206b_row10_col15, #T_a206b_row10_col16 {\n",
       "  font-size: 6pt;\n",
       "  background-color: #000000;\n",
       "  color: #f1f1f1;\n",
       "}\n",
       "#T_a206b_row1_col11 {\n",
       "  font-size: 6pt;\n",
       "  background-color: #606060;\n",
       "  color: #f1f1f1;\n",
       "}\n",
       "#T_a206b_row1_col12 {\n",
       "  font-size: 6pt;\n",
       "  background-color: #4d4d4d;\n",
       "  color: #f1f1f1;\n",
       "}\n",
       "#T_a206b_row1_col14 {\n",
       "  font-size: 6pt;\n",
       "  background-color: #bbbbbb;\n",
       "  color: #000000;\n",
       "}\n",
       "#T_a206b_row2_col3 {\n",
       "  font-size: 6pt;\n",
       "  background-color: #e4e4e4;\n",
       "  color: #000000;\n",
       "}\n",
       "#T_a206b_row2_col4, #T_a206b_row8_col6 {\n",
       "  font-size: 6pt;\n",
       "  background-color: #6b6b6b;\n",
       "  color: #f1f1f1;\n",
       "}\n",
       "#T_a206b_row2_col8, #T_a206b_row2_col14, #T_a206b_row3_col14 {\n",
       "  font-size: 6pt;\n",
       "  background-color: #171717;\n",
       "  color: #f1f1f1;\n",
       "}\n",
       "#T_a206b_row2_col9, #T_a206b_row3_col11 {\n",
       "  font-size: 6pt;\n",
       "  background-color: #4b4b4b;\n",
       "  color: #f1f1f1;\n",
       "}\n",
       "#T_a206b_row2_col10, #T_a206b_row7_col10, #T_a206b_row8_col8, #T_a206b_row8_col10, #T_a206b_row9_col8, #T_a206b_row9_col10 {\n",
       "  font-size: 6pt;\n",
       "  background-color: #010101;\n",
       "  color: #f1f1f1;\n",
       "}\n",
       "#T_a206b_row3_col1 {\n",
       "  font-size: 6pt;\n",
       "  background-color: #272727;\n",
       "  color: #f1f1f1;\n",
       "}\n",
       "#T_a206b_row3_col2 {\n",
       "  font-size: 6pt;\n",
       "  background-color: #0a0a0a;\n",
       "  color: #f1f1f1;\n",
       "}\n",
       "#T_a206b_row3_col3 {\n",
       "  font-size: 6pt;\n",
       "  background-color: #050505;\n",
       "  color: #f1f1f1;\n",
       "}\n",
       "#T_a206b_row3_col5 {\n",
       "  font-size: 6pt;\n",
       "  background-color: #333333;\n",
       "  color: #f1f1f1;\n",
       "}\n",
       "#T_a206b_row3_col6 {\n",
       "  font-size: 6pt;\n",
       "  background-color: #e6e6e6;\n",
       "  color: #000000;\n",
       "}\n",
       "#T_a206b_row3_col7, #T_a206b_row3_col10 {\n",
       "  font-size: 6pt;\n",
       "  background-color: #fafafa;\n",
       "  color: #000000;\n",
       "}\n",
       "#T_a206b_row3_col8 {\n",
       "  font-size: 6pt;\n",
       "  background-color: #fbfbfb;\n",
       "  color: #000000;\n",
       "}\n",
       "#T_a206b_row3_col9 {\n",
       "  font-size: 6pt;\n",
       "  background-color: #fdfdfd;\n",
       "  color: #000000;\n",
       "}\n",
       "#T_a206b_row4_col4 {\n",
       "  font-size: 6pt;\n",
       "  background-color: #1b1b1b;\n",
       "  color: #f1f1f1;\n",
       "}\n",
       "#T_a206b_row4_col5 {\n",
       "  font-size: 6pt;\n",
       "  background-color: #e0e0e0;\n",
       "  color: #000000;\n",
       "}\n",
       "#T_a206b_row4_col11 {\n",
       "  font-size: 6pt;\n",
       "  background-color: #4e4e4e;\n",
       "  color: #f1f1f1;\n",
       "}\n",
       "#T_a206b_row4_col14 {\n",
       "  font-size: 6pt;\n",
       "  background-color: #767676;\n",
       "  color: #f1f1f1;\n",
       "}\n",
       "#T_a206b_row5_col1 {\n",
       "  font-size: 6pt;\n",
       "  background-color: #fcfcfc;\n",
       "  color: #000000;\n",
       "}\n",
       "#T_a206b_row5_col2, #T_a206b_row5_col3 {\n",
       "  font-size: 6pt;\n",
       "  background-color: #f6f6f6;\n",
       "  color: #000000;\n",
       "}\n",
       "#T_a206b_row5_col4, #T_a206b_row7_col7 {\n",
       "  font-size: 6pt;\n",
       "  background-color: #f8f8f8;\n",
       "  color: #000000;\n",
       "}\n",
       "#T_a206b_row5_col10, #T_a206b_row10_col7 {\n",
       "  font-size: 6pt;\n",
       "  background-color: #e8e8e8;\n",
       "  color: #000000;\n",
       "}\n",
       "#T_a206b_row5_col11 {\n",
       "  font-size: 6pt;\n",
       "  background-color: #222222;\n",
       "  color: #f1f1f1;\n",
       "}\n",
       "#T_a206b_row5_col13, #T_a206b_row6_col12 {\n",
       "  font-size: 6pt;\n",
       "  background-color: #090909;\n",
       "  color: #f1f1f1;\n",
       "}\n",
       "#T_a206b_row5_col14 {\n",
       "  font-size: 6pt;\n",
       "  background-color: #d0d0d0;\n",
       "  color: #000000;\n",
       "}\n",
       "#T_a206b_row6_col10, #T_a206b_row7_col11, #T_a206b_row9_col6 {\n",
       "  font-size: 6pt;\n",
       "  background-color: #060606;\n",
       "  color: #f1f1f1;\n",
       "}\n",
       "#T_a206b_row6_col13 {\n",
       "  font-size: 6pt;\n",
       "  background-color: #979797;\n",
       "  color: #f1f1f1;\n",
       "}\n",
       "#T_a206b_row7_col8 {\n",
       "  font-size: 6pt;\n",
       "  background-color: #b6b6b6;\n",
       "  color: #000000;\n",
       "}\n",
       "#T_a206b_row7_col9 {\n",
       "  font-size: 6pt;\n",
       "  background-color: #252525;\n",
       "  color: #f1f1f1;\n",
       "}\n",
       "#T_a206b_row7_col12 {\n",
       "  font-size: 6pt;\n",
       "  background-color: #999999;\n",
       "  color: #f1f1f1;\n",
       "}\n",
       "#T_a206b_row8_col5 {\n",
       "  font-size: 6pt;\n",
       "  background-color: #f9f9f9;\n",
       "  color: #000000;\n",
       "}\n",
       "#T_a206b_row8_col7 {\n",
       "  font-size: 6pt;\n",
       "  background-color: #101010;\n",
       "  color: #f1f1f1;\n",
       "}\n",
       "#T_a206b_row8_col9, #T_a206b_row9_col9 {\n",
       "  font-size: 6pt;\n",
       "  background-color: #020202;\n",
       "  color: #f1f1f1;\n",
       "}\n",
       "#T_a206b_row8_col11 {\n",
       "  font-size: 6pt;\n",
       "  background-color: #545454;\n",
       "  color: #f1f1f1;\n",
       "}\n",
       "#T_a206b_row8_col12 {\n",
       "  font-size: 6pt;\n",
       "  background-color: #f1f1f1;\n",
       "  color: #000000;\n",
       "}\n",
       "#T_a206b_row9_col5 {\n",
       "  font-size: 6pt;\n",
       "  background-color: #f7f7f7;\n",
       "  color: #000000;\n",
       "}\n",
       "#T_a206b_row9_col7 {\n",
       "  font-size: 6pt;\n",
       "  background-color: #030303;\n",
       "  color: #f1f1f1;\n",
       "}\n",
       "#T_a206b_row9_col12 {\n",
       "  font-size: 6pt;\n",
       "  background-color: #181818;\n",
       "  color: #f1f1f1;\n",
       "}\n",
       "#T_a206b_row9_col13 {\n",
       "  font-size: 6pt;\n",
       "  background-color: #303030;\n",
       "  color: #f1f1f1;\n",
       "}\n",
       "#T_a206b_row9_col14 {\n",
       "  font-size: 6pt;\n",
       "  background-color: #a9a9a9;\n",
       "  color: #f1f1f1;\n",
       "}\n",
       "#T_a206b_row9_col15 {\n",
       "  font-size: 6pt;\n",
       "  background-color: #fefefe;\n",
       "  color: #000000;\n",
       "}\n",
       "#T_a206b_row10_col8, #T_a206b_row10_col9 {\n",
       "  font-size: 6pt;\n",
       "  background-color: #bababa;\n",
       "  color: #000000;\n",
       "}\n",
       "#T_a206b_row10_col10 {\n",
       "  font-size: 6pt;\n",
       "  background-color: #393939;\n",
       "  color: #f1f1f1;\n",
       "}\n",
       "</style>\n",
       "<table id=\"T_a206b\">\n",
       "  <thead>\n",
       "    <tr>\n",
       "      <th class=\"blank level0\" >&nbsp;</th>\n",
       "      <th id=\"T_a206b_level0_col0\" class=\"col_heading level0 col0\" >0</th>\n",
       "      <th id=\"T_a206b_level0_col1\" class=\"col_heading level0 col1\" >1</th>\n",
       "      <th id=\"T_a206b_level0_col2\" class=\"col_heading level0 col2\" >2</th>\n",
       "      <th id=\"T_a206b_level0_col3\" class=\"col_heading level0 col3\" >3</th>\n",
       "      <th id=\"T_a206b_level0_col4\" class=\"col_heading level0 col4\" >4</th>\n",
       "      <th id=\"T_a206b_level0_col5\" class=\"col_heading level0 col5\" >5</th>\n",
       "      <th id=\"T_a206b_level0_col6\" class=\"col_heading level0 col6\" >6</th>\n",
       "      <th id=\"T_a206b_level0_col7\" class=\"col_heading level0 col7\" >7</th>\n",
       "      <th id=\"T_a206b_level0_col8\" class=\"col_heading level0 col8\" >8</th>\n",
       "      <th id=\"T_a206b_level0_col9\" class=\"col_heading level0 col9\" >9</th>\n",
       "      <th id=\"T_a206b_level0_col10\" class=\"col_heading level0 col10\" >10</th>\n",
       "      <th id=\"T_a206b_level0_col11\" class=\"col_heading level0 col11\" >11</th>\n",
       "      <th id=\"T_a206b_level0_col12\" class=\"col_heading level0 col12\" >12</th>\n",
       "      <th id=\"T_a206b_level0_col13\" class=\"col_heading level0 col13\" >13</th>\n",
       "      <th id=\"T_a206b_level0_col14\" class=\"col_heading level0 col14\" >14</th>\n",
       "      <th id=\"T_a206b_level0_col15\" class=\"col_heading level0 col15\" >15</th>\n",
       "      <th id=\"T_a206b_level0_col16\" class=\"col_heading level0 col16\" >16</th>\n",
       "      <th id=\"T_a206b_level0_col17\" class=\"col_heading level0 col17\" >17</th>\n",
       "    </tr>\n",
       "  </thead>\n",
       "  <tbody>\n",
       "    <tr>\n",
       "      <th id=\"T_a206b_level0_row0\" class=\"row_heading level0 row0\" >0</th>\n",
       "      <td id=\"T_a206b_row0_col0\" class=\"data row0 col0\" >0</td>\n",
       "      <td id=\"T_a206b_row0_col1\" class=\"data row0 col1\" >0</td>\n",
       "      <td id=\"T_a206b_row0_col2\" class=\"data row0 col2\" >0</td>\n",
       "      <td id=\"T_a206b_row0_col3\" class=\"data row0 col3\" >0</td>\n",
       "      <td id=\"T_a206b_row0_col4\" class=\"data row0 col4\" >0</td>\n",
       "      <td id=\"T_a206b_row0_col5\" class=\"data row0 col5\" >0</td>\n",
       "      <td id=\"T_a206b_row0_col6\" class=\"data row0 col6\" >0</td>\n",
       "      <td id=\"T_a206b_row0_col7\" class=\"data row0 col7\" >0</td>\n",
       "      <td id=\"T_a206b_row0_col8\" class=\"data row0 col8\" >0</td>\n",
       "      <td id=\"T_a206b_row0_col9\" class=\"data row0 col9\" >0</td>\n",
       "      <td id=\"T_a206b_row0_col10\" class=\"data row0 col10\" >0</td>\n",
       "      <td id=\"T_a206b_row0_col11\" class=\"data row0 col11\" >0</td>\n",
       "      <td id=\"T_a206b_row0_col12\" class=\"data row0 col12\" >0</td>\n",
       "      <td id=\"T_a206b_row0_col13\" class=\"data row0 col13\" >0</td>\n",
       "      <td id=\"T_a206b_row0_col14\" class=\"data row0 col14\" >0</td>\n",
       "      <td id=\"T_a206b_row0_col15\" class=\"data row0 col15\" >0</td>\n",
       "      <td id=\"T_a206b_row0_col16\" class=\"data row0 col16\" >0</td>\n",
       "      <td id=\"T_a206b_row0_col17\" class=\"data row0 col17\" >0</td>\n",
       "    </tr>\n",
       "    <tr>\n",
       "      <th id=\"T_a206b_level0_row1\" class=\"row_heading level0 row1\" >1</th>\n",
       "      <td id=\"T_a206b_row1_col0\" class=\"data row1 col0\" >0</td>\n",
       "      <td id=\"T_a206b_row1_col1\" class=\"data row1 col1\" >0</td>\n",
       "      <td id=\"T_a206b_row1_col2\" class=\"data row1 col2\" >0</td>\n",
       "      <td id=\"T_a206b_row1_col3\" class=\"data row1 col3\" >0</td>\n",
       "      <td id=\"T_a206b_row1_col4\" class=\"data row1 col4\" >0</td>\n",
       "      <td id=\"T_a206b_row1_col5\" class=\"data row1 col5\" >29</td>\n",
       "      <td id=\"T_a206b_row1_col6\" class=\"data row1 col6\" >150</td>\n",
       "      <td id=\"T_a206b_row1_col7\" class=\"data row1 col7\" >195</td>\n",
       "      <td id=\"T_a206b_row1_col8\" class=\"data row1 col8\" >254</td>\n",
       "      <td id=\"T_a206b_row1_col9\" class=\"data row1 col9\" >255</td>\n",
       "      <td id=\"T_a206b_row1_col10\" class=\"data row1 col10\" >254</td>\n",
       "      <td id=\"T_a206b_row1_col11\" class=\"data row1 col11\" >176</td>\n",
       "      <td id=\"T_a206b_row1_col12\" class=\"data row1 col12\" >193</td>\n",
       "      <td id=\"T_a206b_row1_col13\" class=\"data row1 col13\" >150</td>\n",
       "      <td id=\"T_a206b_row1_col14\" class=\"data row1 col14\" >96</td>\n",
       "      <td id=\"T_a206b_row1_col15\" class=\"data row1 col15\" >0</td>\n",
       "      <td id=\"T_a206b_row1_col16\" class=\"data row1 col16\" >0</td>\n",
       "      <td id=\"T_a206b_row1_col17\" class=\"data row1 col17\" >0</td>\n",
       "    </tr>\n",
       "    <tr>\n",
       "      <th id=\"T_a206b_level0_row2\" class=\"row_heading level0 row2\" >2</th>\n",
       "      <td id=\"T_a206b_row2_col0\" class=\"data row2 col0\" >0</td>\n",
       "      <td id=\"T_a206b_row2_col1\" class=\"data row2 col1\" >0</td>\n",
       "      <td id=\"T_a206b_row2_col2\" class=\"data row2 col2\" >0</td>\n",
       "      <td id=\"T_a206b_row2_col3\" class=\"data row2 col3\" >48</td>\n",
       "      <td id=\"T_a206b_row2_col4\" class=\"data row2 col4\" >166</td>\n",
       "      <td id=\"T_a206b_row2_col5\" class=\"data row2 col5\" >224</td>\n",
       "      <td id=\"T_a206b_row2_col6\" class=\"data row2 col6\" >253</td>\n",
       "      <td id=\"T_a206b_row2_col7\" class=\"data row2 col7\" >253</td>\n",
       "      <td id=\"T_a206b_row2_col8\" class=\"data row2 col8\" >234</td>\n",
       "      <td id=\"T_a206b_row2_col9\" class=\"data row2 col9\" >196</td>\n",
       "      <td id=\"T_a206b_row2_col10\" class=\"data row2 col10\" >253</td>\n",
       "      <td id=\"T_a206b_row2_col11\" class=\"data row2 col11\" >253</td>\n",
       "      <td id=\"T_a206b_row2_col12\" class=\"data row2 col12\" >253</td>\n",
       "      <td id=\"T_a206b_row2_col13\" class=\"data row2 col13\" >253</td>\n",
       "      <td id=\"T_a206b_row2_col14\" class=\"data row2 col14\" >233</td>\n",
       "      <td id=\"T_a206b_row2_col15\" class=\"data row2 col15\" >0</td>\n",
       "      <td id=\"T_a206b_row2_col16\" class=\"data row2 col16\" >0</td>\n",
       "      <td id=\"T_a206b_row2_col17\" class=\"data row2 col17\" >0</td>\n",
       "    </tr>\n",
       "    <tr>\n",
       "      <th id=\"T_a206b_level0_row3\" class=\"row_heading level0 row3\" >3</th>\n",
       "      <td id=\"T_a206b_row3_col0\" class=\"data row3 col0\" >0</td>\n",
       "      <td id=\"T_a206b_row3_col1\" class=\"data row3 col1\" >93</td>\n",
       "      <td id=\"T_a206b_row3_col2\" class=\"data row3 col2\" >244</td>\n",
       "      <td id=\"T_a206b_row3_col3\" class=\"data row3 col3\" >249</td>\n",
       "      <td id=\"T_a206b_row3_col4\" class=\"data row3 col4\" >253</td>\n",
       "      <td id=\"T_a206b_row3_col5\" class=\"data row3 col5\" >187</td>\n",
       "      <td id=\"T_a206b_row3_col6\" class=\"data row3 col6\" >46</td>\n",
       "      <td id=\"T_a206b_row3_col7\" class=\"data row3 col7\" >10</td>\n",
       "      <td id=\"T_a206b_row3_col8\" class=\"data row3 col8\" >8</td>\n",
       "      <td id=\"T_a206b_row3_col9\" class=\"data row3 col9\" >4</td>\n",
       "      <td id=\"T_a206b_row3_col10\" class=\"data row3 col10\" >10</td>\n",
       "      <td id=\"T_a206b_row3_col11\" class=\"data row3 col11\" >194</td>\n",
       "      <td id=\"T_a206b_row3_col12\" class=\"data row3 col12\" >253</td>\n",
       "      <td id=\"T_a206b_row3_col13\" class=\"data row3 col13\" >253</td>\n",
       "      <td id=\"T_a206b_row3_col14\" class=\"data row3 col14\" >233</td>\n",
       "      <td id=\"T_a206b_row3_col15\" class=\"data row3 col15\" >0</td>\n",
       "      <td id=\"T_a206b_row3_col16\" class=\"data row3 col16\" >0</td>\n",
       "      <td id=\"T_a206b_row3_col17\" class=\"data row3 col17\" >0</td>\n",
       "    </tr>\n",
       "    <tr>\n",
       "      <th id=\"T_a206b_level0_row4\" class=\"row_heading level0 row4\" >4</th>\n",
       "      <td id=\"T_a206b_row4_col0\" class=\"data row4 col0\" >0</td>\n",
       "      <td id=\"T_a206b_row4_col1\" class=\"data row4 col1\" >107</td>\n",
       "      <td id=\"T_a206b_row4_col2\" class=\"data row4 col2\" >253</td>\n",
       "      <td id=\"T_a206b_row4_col3\" class=\"data row4 col3\" >253</td>\n",
       "      <td id=\"T_a206b_row4_col4\" class=\"data row4 col4\" >230</td>\n",
       "      <td id=\"T_a206b_row4_col5\" class=\"data row4 col5\" >48</td>\n",
       "      <td id=\"T_a206b_row4_col6\" class=\"data row4 col6\" >0</td>\n",
       "      <td id=\"T_a206b_row4_col7\" class=\"data row4 col7\" >0</td>\n",
       "      <td id=\"T_a206b_row4_col8\" class=\"data row4 col8\" >0</td>\n",
       "      <td id=\"T_a206b_row4_col9\" class=\"data row4 col9\" >0</td>\n",
       "      <td id=\"T_a206b_row4_col10\" class=\"data row4 col10\" >0</td>\n",
       "      <td id=\"T_a206b_row4_col11\" class=\"data row4 col11\" >192</td>\n",
       "      <td id=\"T_a206b_row4_col12\" class=\"data row4 col12\" >253</td>\n",
       "      <td id=\"T_a206b_row4_col13\" class=\"data row4 col13\" >253</td>\n",
       "      <td id=\"T_a206b_row4_col14\" class=\"data row4 col14\" >156</td>\n",
       "      <td id=\"T_a206b_row4_col15\" class=\"data row4 col15\" >0</td>\n",
       "      <td id=\"T_a206b_row4_col16\" class=\"data row4 col16\" >0</td>\n",
       "      <td id=\"T_a206b_row4_col17\" class=\"data row4 col17\" >0</td>\n",
       "    </tr>\n",
       "    <tr>\n",
       "      <th id=\"T_a206b_level0_row5\" class=\"row_heading level0 row5\" >5</th>\n",
       "      <td id=\"T_a206b_row5_col0\" class=\"data row5 col0\" >0</td>\n",
       "      <td id=\"T_a206b_row5_col1\" class=\"data row5 col1\" >3</td>\n",
       "      <td id=\"T_a206b_row5_col2\" class=\"data row5 col2\" >20</td>\n",
       "      <td id=\"T_a206b_row5_col3\" class=\"data row5 col3\" >20</td>\n",
       "      <td id=\"T_a206b_row5_col4\" class=\"data row5 col4\" >15</td>\n",
       "      <td id=\"T_a206b_row5_col5\" class=\"data row5 col5\" >0</td>\n",
       "      <td id=\"T_a206b_row5_col6\" class=\"data row5 col6\" >0</td>\n",
       "      <td id=\"T_a206b_row5_col7\" class=\"data row5 col7\" >0</td>\n",
       "      <td id=\"T_a206b_row5_col8\" class=\"data row5 col8\" >0</td>\n",
       "      <td id=\"T_a206b_row5_col9\" class=\"data row5 col9\" >0</td>\n",
       "      <td id=\"T_a206b_row5_col10\" class=\"data row5 col10\" >43</td>\n",
       "      <td id=\"T_a206b_row5_col11\" class=\"data row5 col11\" >224</td>\n",
       "      <td id=\"T_a206b_row5_col12\" class=\"data row5 col12\" >253</td>\n",
       "      <td id=\"T_a206b_row5_col13\" class=\"data row5 col13\" >245</td>\n",
       "      <td id=\"T_a206b_row5_col14\" class=\"data row5 col14\" >74</td>\n",
       "      <td id=\"T_a206b_row5_col15\" class=\"data row5 col15\" >0</td>\n",
       "      <td id=\"T_a206b_row5_col16\" class=\"data row5 col16\" >0</td>\n",
       "      <td id=\"T_a206b_row5_col17\" class=\"data row5 col17\" >0</td>\n",
       "    </tr>\n",
       "    <tr>\n",
       "      <th id=\"T_a206b_level0_row6\" class=\"row_heading level0 row6\" >6</th>\n",
       "      <td id=\"T_a206b_row6_col0\" class=\"data row6 col0\" >0</td>\n",
       "      <td id=\"T_a206b_row6_col1\" class=\"data row6 col1\" >0</td>\n",
       "      <td id=\"T_a206b_row6_col2\" class=\"data row6 col2\" >0</td>\n",
       "      <td id=\"T_a206b_row6_col3\" class=\"data row6 col3\" >0</td>\n",
       "      <td id=\"T_a206b_row6_col4\" class=\"data row6 col4\" >0</td>\n",
       "      <td id=\"T_a206b_row6_col5\" class=\"data row6 col5\" >0</td>\n",
       "      <td id=\"T_a206b_row6_col6\" class=\"data row6 col6\" >0</td>\n",
       "      <td id=\"T_a206b_row6_col7\" class=\"data row6 col7\" >0</td>\n",
       "      <td id=\"T_a206b_row6_col8\" class=\"data row6 col8\" >0</td>\n",
       "      <td id=\"T_a206b_row6_col9\" class=\"data row6 col9\" >0</td>\n",
       "      <td id=\"T_a206b_row6_col10\" class=\"data row6 col10\" >249</td>\n",
       "      <td id=\"T_a206b_row6_col11\" class=\"data row6 col11\" >253</td>\n",
       "      <td id=\"T_a206b_row6_col12\" class=\"data row6 col12\" >245</td>\n",
       "      <td id=\"T_a206b_row6_col13\" class=\"data row6 col13\" >126</td>\n",
       "      <td id=\"T_a206b_row6_col14\" class=\"data row6 col14\" >0</td>\n",
       "      <td id=\"T_a206b_row6_col15\" class=\"data row6 col15\" >0</td>\n",
       "      <td id=\"T_a206b_row6_col16\" class=\"data row6 col16\" >0</td>\n",
       "      <td id=\"T_a206b_row6_col17\" class=\"data row6 col17\" >0</td>\n",
       "    </tr>\n",
       "    <tr>\n",
       "      <th id=\"T_a206b_level0_row7\" class=\"row_heading level0 row7\" >7</th>\n",
       "      <td id=\"T_a206b_row7_col0\" class=\"data row7 col0\" >0</td>\n",
       "      <td id=\"T_a206b_row7_col1\" class=\"data row7 col1\" >0</td>\n",
       "      <td id=\"T_a206b_row7_col2\" class=\"data row7 col2\" >0</td>\n",
       "      <td id=\"T_a206b_row7_col3\" class=\"data row7 col3\" >0</td>\n",
       "      <td id=\"T_a206b_row7_col4\" class=\"data row7 col4\" >0</td>\n",
       "      <td id=\"T_a206b_row7_col5\" class=\"data row7 col5\" >0</td>\n",
       "      <td id=\"T_a206b_row7_col6\" class=\"data row7 col6\" >0</td>\n",
       "      <td id=\"T_a206b_row7_col7\" class=\"data row7 col7\" >14</td>\n",
       "      <td id=\"T_a206b_row7_col8\" class=\"data row7 col8\" >101</td>\n",
       "      <td id=\"T_a206b_row7_col9\" class=\"data row7 col9\" >223</td>\n",
       "      <td id=\"T_a206b_row7_col10\" class=\"data row7 col10\" >253</td>\n",
       "      <td id=\"T_a206b_row7_col11\" class=\"data row7 col11\" >248</td>\n",
       "      <td id=\"T_a206b_row7_col12\" class=\"data row7 col12\" >124</td>\n",
       "      <td id=\"T_a206b_row7_col13\" class=\"data row7 col13\" >0</td>\n",
       "      <td id=\"T_a206b_row7_col14\" class=\"data row7 col14\" >0</td>\n",
       "      <td id=\"T_a206b_row7_col15\" class=\"data row7 col15\" >0</td>\n",
       "      <td id=\"T_a206b_row7_col16\" class=\"data row7 col16\" >0</td>\n",
       "      <td id=\"T_a206b_row7_col17\" class=\"data row7 col17\" >0</td>\n",
       "    </tr>\n",
       "    <tr>\n",
       "      <th id=\"T_a206b_level0_row8\" class=\"row_heading level0 row8\" >8</th>\n",
       "      <td id=\"T_a206b_row8_col0\" class=\"data row8 col0\" >0</td>\n",
       "      <td id=\"T_a206b_row8_col1\" class=\"data row8 col1\" >0</td>\n",
       "      <td id=\"T_a206b_row8_col2\" class=\"data row8 col2\" >0</td>\n",
       "      <td id=\"T_a206b_row8_col3\" class=\"data row8 col3\" >0</td>\n",
       "      <td id=\"T_a206b_row8_col4\" class=\"data row8 col4\" >0</td>\n",
       "      <td id=\"T_a206b_row8_col5\" class=\"data row8 col5\" >11</td>\n",
       "      <td id=\"T_a206b_row8_col6\" class=\"data row8 col6\" >166</td>\n",
       "      <td id=\"T_a206b_row8_col7\" class=\"data row8 col7\" >239</td>\n",
       "      <td id=\"T_a206b_row8_col8\" class=\"data row8 col8\" >253</td>\n",
       "      <td id=\"T_a206b_row8_col9\" class=\"data row8 col9\" >253</td>\n",
       "      <td id=\"T_a206b_row8_col10\" class=\"data row8 col10\" >253</td>\n",
       "      <td id=\"T_a206b_row8_col11\" class=\"data row8 col11\" >187</td>\n",
       "      <td id=\"T_a206b_row8_col12\" class=\"data row8 col12\" >30</td>\n",
       "      <td id=\"T_a206b_row8_col13\" class=\"data row8 col13\" >0</td>\n",
       "      <td id=\"T_a206b_row8_col14\" class=\"data row8 col14\" >0</td>\n",
       "      <td id=\"T_a206b_row8_col15\" class=\"data row8 col15\" >0</td>\n",
       "      <td id=\"T_a206b_row8_col16\" class=\"data row8 col16\" >0</td>\n",
       "      <td id=\"T_a206b_row8_col17\" class=\"data row8 col17\" >0</td>\n",
       "    </tr>\n",
       "    <tr>\n",
       "      <th id=\"T_a206b_level0_row9\" class=\"row_heading level0 row9\" >9</th>\n",
       "      <td id=\"T_a206b_row9_col0\" class=\"data row9 col0\" >0</td>\n",
       "      <td id=\"T_a206b_row9_col1\" class=\"data row9 col1\" >0</td>\n",
       "      <td id=\"T_a206b_row9_col2\" class=\"data row9 col2\" >0</td>\n",
       "      <td id=\"T_a206b_row9_col3\" class=\"data row9 col3\" >0</td>\n",
       "      <td id=\"T_a206b_row9_col4\" class=\"data row9 col4\" >0</td>\n",
       "      <td id=\"T_a206b_row9_col5\" class=\"data row9 col5\" >16</td>\n",
       "      <td id=\"T_a206b_row9_col6\" class=\"data row9 col6\" >248</td>\n",
       "      <td id=\"T_a206b_row9_col7\" class=\"data row9 col7\" >250</td>\n",
       "      <td id=\"T_a206b_row9_col8\" class=\"data row9 col8\" >253</td>\n",
       "      <td id=\"T_a206b_row9_col9\" class=\"data row9 col9\" >253</td>\n",
       "      <td id=\"T_a206b_row9_col10\" class=\"data row9 col10\" >253</td>\n",
       "      <td id=\"T_a206b_row9_col11\" class=\"data row9 col11\" >253</td>\n",
       "      <td id=\"T_a206b_row9_col12\" class=\"data row9 col12\" >232</td>\n",
       "      <td id=\"T_a206b_row9_col13\" class=\"data row9 col13\" >213</td>\n",
       "      <td id=\"T_a206b_row9_col14\" class=\"data row9 col14\" >111</td>\n",
       "      <td id=\"T_a206b_row9_col15\" class=\"data row9 col15\" >2</td>\n",
       "      <td id=\"T_a206b_row9_col16\" class=\"data row9 col16\" >0</td>\n",
       "      <td id=\"T_a206b_row9_col17\" class=\"data row9 col17\" >0</td>\n",
       "    </tr>\n",
       "    <tr>\n",
       "      <th id=\"T_a206b_level0_row10\" class=\"row_heading level0 row10\" >10</th>\n",
       "      <td id=\"T_a206b_row10_col0\" class=\"data row10 col0\" >0</td>\n",
       "      <td id=\"T_a206b_row10_col1\" class=\"data row10 col1\" >0</td>\n",
       "      <td id=\"T_a206b_row10_col2\" class=\"data row10 col2\" >0</td>\n",
       "      <td id=\"T_a206b_row10_col3\" class=\"data row10 col3\" >0</td>\n",
       "      <td id=\"T_a206b_row10_col4\" class=\"data row10 col4\" >0</td>\n",
       "      <td id=\"T_a206b_row10_col5\" class=\"data row10 col5\" >0</td>\n",
       "      <td id=\"T_a206b_row10_col6\" class=\"data row10 col6\" >0</td>\n",
       "      <td id=\"T_a206b_row10_col7\" class=\"data row10 col7\" >43</td>\n",
       "      <td id=\"T_a206b_row10_col8\" class=\"data row10 col8\" >98</td>\n",
       "      <td id=\"T_a206b_row10_col9\" class=\"data row10 col9\" >98</td>\n",
       "      <td id=\"T_a206b_row10_col10\" class=\"data row10 col10\" >208</td>\n",
       "      <td id=\"T_a206b_row10_col11\" class=\"data row10 col11\" >253</td>\n",
       "      <td id=\"T_a206b_row10_col12\" class=\"data row10 col12\" >253</td>\n",
       "      <td id=\"T_a206b_row10_col13\" class=\"data row10 col13\" >253</td>\n",
       "      <td id=\"T_a206b_row10_col14\" class=\"data row10 col14\" >253</td>\n",
       "      <td id=\"T_a206b_row10_col15\" class=\"data row10 col15\" >187</td>\n",
       "      <td id=\"T_a206b_row10_col16\" class=\"data row10 col16\" >22</td>\n",
       "      <td id=\"T_a206b_row10_col17\" class=\"data row10 col17\" >0</td>\n",
       "    </tr>\n",
       "  </tbody>\n",
       "</table>\n"
      ],
      "text/plain": [
       "<pandas.io.formats.style.Styler at 0x2594c02d7f0>"
      ]
     },
     "execution_count": 18,
     "metadata": {},
     "output_type": "execute_result"
    }
   ],
   "source": [
    "im3_t = tensor(im3)\n",
    "df = pd.DataFrame(im3_t[4:15,4:22])\n",
    "df.style.set_properties(**{'font-size':'6pt'}).background_gradient('Greys')"
   ]
  },
  {
   "cell_type": "markdown",
   "id": "c9d8c620-7260-4a6a-a90e-a3392e8fa8ee",
   "metadata": {
    "tags": []
   },
   "source": [
    "### 픽셀 유사성"
   ]
  },
  {
   "cell_type": "code",
   "execution_count": 19,
   "id": "543332eb-0a9d-4d09-aebe-bd19ba9532a7",
   "metadata": {},
   "outputs": [
    {
     "data": {
      "text/plain": [
       "(6131, 6265)"
      ]
     },
     "execution_count": 19,
     "metadata": {},
     "output_type": "execute_result"
    }
   ],
   "source": [
    "seven_tensors = [tensor(Image.open(o)) for o in sevens]\n",
    "three_tensors = [tensor(Image.open(o)) for o in threes]\n",
    "len(three_tensors),len(seven_tensors)"
   ]
  },
  {
   "cell_type": "code",
   "execution_count": 20,
   "id": "5d255bd0-b4bf-42c6-bb30-a9a0310e88a8",
   "metadata": {},
   "outputs": [
    {
     "data": {
      "image/png": "[encoded data removed]",
      "text/plain": [
       "<Figure size 100x100 with 1 Axes>"
      ]
     },
     "metadata": {},
     "output_type": "display_data"
    }
   ],
   "source": [
    "show_image(three_tensors[1]);"
   ]
  },
  {
   "cell_type": "code",
   "execution_count": 21,
   "id": "2784984a-c391-4946-b9de-b600486418a2",
   "metadata": {},
   "outputs": [
    {
     "data": {
      "text/plain": [
       "torch.Size([6131, 28, 28])"
      ]
     },
     "execution_count": 21,
     "metadata": {},
     "output_type": "execute_result"
    }
   ],
   "source": [
    "stacked_sevens = torch.stack(seven_tensors).float()/255\n",
    "stacked_threes = torch.stack(three_tensors).float()/255\n",
    "stacked_threes.shape"
   ]
  },
  {
   "cell_type": "code",
   "execution_count": 22,
   "id": "2c8f976c-9923-4a00-a2fa-76345eab8696",
   "metadata": {},
   "outputs": [
    {
     "data": {
      "text/plain": [
       "3"
      ]
     },
     "execution_count": 22,
     "metadata": {},
     "output_type": "execute_result"
    }
   ],
   "source": [
    "len(stacked_threes.shape)"
   ]
  },
  {
   "cell_type": "code",
   "execution_count": 23,
   "id": "908e550b-d62a-422b-af15-7d95dd7b1401",
   "metadata": {},
   "outputs": [
    {
     "data": {
      "text/plain": [
       "3"
      ]
     },
     "execution_count": 23,
     "metadata": {},
     "output_type": "execute_result"
    }
   ],
   "source": [
    "stacked_threes.ndim"
   ]
  },
  {
   "cell_type": "code",
   "execution_count": 24,
   "id": "483905ed-ba6f-46d7-8b23-1022d32b9b5f",
   "metadata": {},
   "outputs": [
    {
     "data": {
      "image/png": "[encoded data removed]",
      "text/plain": [
       "<Figure size 100x100 with 1 Axes>"
      ]
     },
     "metadata": {},
     "output_type": "display_data"
    }
   ],
   "source": [
    "mean3 = stacked_threes.mean(0)\n",
    "show_image(mean3);"
   ]
  },
  {
   "cell_type": "code",
   "execution_count": 25,
   "id": "cfd6c683-ee41-4221-9692-2d982ac0de39",
   "metadata": {},
   "outputs": [
    {
     "data": {
      "image/png": "[encoded data removed]",
      "text/plain": [
       "<Figure size 100x100 with 1 Axes>"
      ]
     },
     "metadata": {},
     "output_type": "display_data"
    }
   ],
   "source": [
    "mean7 = stacked_sevens.mean(0)\n",
    "show_image(mean7);"
   ]
  },
  {
   "cell_type": "code",
   "execution_count": 26,
   "id": "38e3681e-c2a1-45fb-960c-7c0a1317a807",
   "metadata": {},
   "outputs": [
    {
     "data": {
      "image/png": "[encoded data removed]",
      "text/plain": [
       "<Figure size 100x100 with 1 Axes>"
      ]
     },
     "metadata": {},
     "output_type": "display_data"
    }
   ],
   "source": [
    "a_3 = stacked_threes[1]\n",
    "show_image(a_3);"
   ]
  },
  {
   "cell_type": "code",
   "execution_count": 27,
   "id": "e2e9cda9-488b-491b-9f57-cc8f00dede7b",
   "metadata": {},
   "outputs": [
    {
     "data": {
      "text/plain": [
       "(tensor(0.1114), tensor(0.2021))"
      ]
     },
     "execution_count": 27,
     "metadata": {},
     "output_type": "execute_result"
    }
   ],
   "source": [
    "dist_3_abs = (a_3 - mean3).abs().mean()\n",
    "dist_3_sqr = ((a_3 - mean3)**2).mean().sqrt()\n",
    "dist_3_abs,dist_3_sqr"
   ]
  },
  {
   "cell_type": "code",
   "execution_count": 28,
   "id": "182d70db-39c1-4be2-8b1b-dbd06c580a14",
   "metadata": {},
   "outputs": [
    {
     "data": {
      "text/plain": [
       "(tensor(0.1586), tensor(0.3021))"
      ]
     },
     "execution_count": 28,
     "metadata": {},
     "output_type": "execute_result"
    }
   ],
   "source": [
    "dist_7_abs = (a_3 - mean7).abs().mean()\n",
    "dist_7_sqr = ((a_3 - mean7)**2).mean().sqrt()\n",
    "dist_7_abs,dist_7_sqr"
   ]
  },
  {
   "cell_type": "code",
   "execution_count": 29,
   "id": "cb407992-a1da-4567-bc2a-c2f4ddace81f",
   "metadata": {},
   "outputs": [
    {
     "data": {
      "text/plain": [
       "(tensor(0.1586), tensor(0.3021))"
      ]
     },
     "execution_count": 29,
     "metadata": {},
     "output_type": "execute_result"
    }
   ],
   "source": [
    "F.l1_loss(a_3.float(),mean7), F.mse_loss(a_3,mean7).sqrt()"
   ]
  },
  {
   "cell_type": "markdown",
   "id": "192c3067-6de7-48d4-8911-b0796ccfad96",
   "metadata": {
    "tags": []
   },
   "source": [
    "#### 넘파이 배열과 파이토치 텐서"
   ]
  },
  {
   "cell_type": "code",
   "execution_count": 30,
   "id": "8e071b21-74ef-4b3a-b162-610554cdeb47",
   "metadata": {},
   "outputs": [],
   "source": [
    "data = [[1,2,3],[4,5,6]]\n",
    "arr = array (data)\n",
    "tns = tensor(data)"
   ]
  },
  {
   "cell_type": "code",
   "execution_count": 31,
   "id": "35a70b1e-ec7f-4cba-8057-4423b78ae729",
   "metadata": {},
   "outputs": [
    {
     "data": {
      "text/plain": [
       "array([[1, 2, 3],\n",
       "       [4, 5, 6]])"
      ]
     },
     "execution_count": 31,
     "metadata": {},
     "output_type": "execute_result"
    }
   ],
   "source": [
    "arr  # numpy"
   ]
  },
  {
   "cell_type": "code",
   "execution_count": 32,
   "id": "92aad07e-e593-435a-ab1f-9fdc972dadff",
   "metadata": {},
   "outputs": [
    {
     "data": {
      "text/plain": [
       "tensor([[1, 2, 3],\n",
       "        [4, 5, 6]])"
      ]
     },
     "execution_count": 32,
     "metadata": {},
     "output_type": "execute_result"
    }
   ],
   "source": [
    "tns  # pytorch"
   ]
  },
  {
   "cell_type": "code",
   "execution_count": 33,
   "id": "802b308d-f604-4fbd-97ee-89a3d5459c02",
   "metadata": {},
   "outputs": [
    {
     "data": {
      "text/plain": [
       "tensor([4, 5, 6])"
      ]
     },
     "execution_count": 33,
     "metadata": {},
     "output_type": "execute_result"
    }
   ],
   "source": [
    "tns[1]"
   ]
  },
  {
   "cell_type": "code",
   "execution_count": 34,
   "id": "ead064a5-72ec-4a60-9acd-0f001aae8a62",
   "metadata": {},
   "outputs": [
    {
     "data": {
      "text/plain": [
       "tensor([2, 5])"
      ]
     },
     "execution_count": 34,
     "metadata": {},
     "output_type": "execute_result"
    }
   ],
   "source": [
    "tns[:,1]"
   ]
  },
  {
   "cell_type": "code",
   "execution_count": 35,
   "id": "8021816b-8219-44a8-8e2a-05f74db06988",
   "metadata": {},
   "outputs": [
    {
     "data": {
      "text/plain": [
       "tensor([5, 6])"
      ]
     },
     "execution_count": 35,
     "metadata": {},
     "output_type": "execute_result"
    }
   ],
   "source": [
    "tns[1,1:3]"
   ]
  },
  {
   "cell_type": "code",
   "execution_count": 36,
   "id": "dc37ec1f-9b9c-426b-bb62-3545125de2c2",
   "metadata": {},
   "outputs": [
    {
     "data": {
      "text/plain": [
       "tensor([[2, 3, 4],\n",
       "        [5, 6, 7]])"
      ]
     },
     "execution_count": 36,
     "metadata": {},
     "output_type": "execute_result"
    }
   ],
   "source": [
    "tns+1"
   ]
  },
  {
   "cell_type": "code",
   "execution_count": 37,
   "id": "89a0e1c9-ccaf-4772-8f2e-2e2e16baa3a1",
   "metadata": {},
   "outputs": [
    {
     "data": {
      "text/plain": [
       "'torch.LongTensor'"
      ]
     },
     "execution_count": 37,
     "metadata": {},
     "output_type": "execute_result"
    }
   ],
   "source": [
    "tns.type()"
   ]
  },
  {
   "cell_type": "code",
   "execution_count": 38,
   "id": "0a42b21f-36c3-4e26-881c-4557b8835939",
   "metadata": {},
   "outputs": [
    {
     "data": {
      "text/plain": [
       "tensor([[1.5000, 3.0000, 4.5000],\n",
       "        [6.0000, 7.5000, 9.0000]])"
      ]
     },
     "execution_count": 38,
     "metadata": {},
     "output_type": "execute_result"
    }
   ],
   "source": [
    "tns*1.5"
   ]
  },
  {
   "cell_type": "markdown",
   "id": "dc822455-6ad7-41c4-b558-7e5b2cca4f6f",
   "metadata": {
    "tags": []
   },
   "source": [
    "### 브로드캐스팅으로  평가지표 계산"
   ]
  },
  {
   "cell_type": "code",
   "execution_count": 39,
   "id": "67bc6af3-9ff7-47b7-8028-09ab7cf4284c",
   "metadata": {},
   "outputs": [
    {
     "data": {
      "text/plain": [
       "(torch.Size([1010, 28, 28]), torch.Size([1028, 28, 28]))"
      ]
     },
     "execution_count": 39,
     "metadata": {},
     "output_type": "execute_result"
    }
   ],
   "source": [
    "valid_3_tens = torch.stack([tensor(Image.open(o)) \n",
    "                            for o in (path/'valid'/'3').ls()])\n",
    "valid_3_tens = valid_3_tens.float()/255\n",
    "valid_7_tens = torch.stack([tensor(Image.open(o)) \n",
    "                            for o in (path/'valid'/'7').ls()])\n",
    "valid_7_tens = valid_7_tens.float()/255\n",
    "valid_3_tens.shape,valid_7_tens.shape"
   ]
  },
  {
   "cell_type": "code",
   "execution_count": 40,
   "id": "97fe5f19-d920-420e-a302-4ac4dc03f55f",
   "metadata": {},
   "outputs": [
    {
     "data": {
      "text/plain": [
       "tensor(0.1114)"
      ]
     },
     "execution_count": 40,
     "metadata": {},
     "output_type": "execute_result"
    }
   ],
   "source": [
    "def mnist_distance(a,b): return (a-b).abs().mean((-1,-2))\n",
    "mnist_distance(a_3, mean3)"
   ]
  },
  {
   "cell_type": "code",
   "execution_count": 41,
   "id": "676b2076-a17d-48fc-9ee2-85420db79ccb",
   "metadata": {},
   "outputs": [
    {
     "data": {
      "text/plain": [
       "(tensor([0.1280, 0.1623, 0.1242,  ..., 0.1508, 0.1263, 0.1260]),\n",
       " torch.Size([1010]))"
      ]
     },
     "execution_count": 41,
     "metadata": {},
     "output_type": "execute_result"
    }
   ],
   "source": [
    "valid_3_dist = mnist_distance(valid_3_tens, mean3)\n",
    "valid_3_dist, valid_3_dist.shape"
   ]
  },
  {
   "cell_type": "code",
   "execution_count": 42,
   "id": "8b10e104-b3c8-43af-a0c0-ff73cda0ef6a",
   "metadata": {},
   "outputs": [
    {
     "data": {
      "text/plain": [
       "tensor([2, 3, 4])"
      ]
     },
     "execution_count": 42,
     "metadata": {},
     "output_type": "execute_result"
    }
   ],
   "source": [
    "tensor([1,2,3]) + tensor(1)"
   ]
  },
  {
   "cell_type": "code",
   "execution_count": 43,
   "id": "e3cbdef5-67da-4666-a535-ca80458b3f51",
   "metadata": {},
   "outputs": [
    {
     "data": {
      "text/plain": [
       "torch.Size([1010, 28, 28])"
      ]
     },
     "execution_count": 43,
     "metadata": {},
     "output_type": "execute_result"
    }
   ],
   "source": [
    "(valid_3_tens-mean3).shape"
   ]
  },
  {
   "cell_type": "code",
   "execution_count": 44,
   "id": "81ab3c3e-33d9-4b90-a331-cba00f6d0746",
   "metadata": {},
   "outputs": [],
   "source": [
    "def is_3(x): return mnist_distance(x,mean3) < mnist_distance(x,mean7)"
   ]
  },
  {
   "cell_type": "code",
   "execution_count": 45,
   "id": "0dbfaa4e-960e-4ab1-acea-ee84eb072f0e",
   "metadata": {},
   "outputs": [
    {
     "data": {
      "text/plain": [
       "(tensor(True), tensor(1.))"
      ]
     },
     "execution_count": 45,
     "metadata": {},
     "output_type": "execute_result"
    }
   ],
   "source": [
    "is_3(a_3), is_3(a_3).float()"
   ]
  },
  {
   "cell_type": "code",
   "execution_count": 46,
   "id": "bc7eb0c7-2e7f-4c49-948a-7641feb43cef",
   "metadata": {},
   "outputs": [
    {
     "data": {
      "text/plain": [
       "tensor([ True,  True,  True,  ..., False,  True,  True])"
      ]
     },
     "execution_count": 46,
     "metadata": {},
     "output_type": "execute_result"
    }
   ],
   "source": [
    "is_3(valid_3_tens)"
   ]
  },
  {
   "cell_type": "code",
   "execution_count": 47,
   "id": "f4097573-ff51-4576-bcdc-766904fa0e57",
   "metadata": {},
   "outputs": [
    {
     "data": {
      "text/plain": [
       "(tensor(0.9168), tensor(0.9854), tensor(0.9511))"
      ]
     },
     "execution_count": 47,
     "metadata": {},
     "output_type": "execute_result"
    }
   ],
   "source": [
    "accuracy_3s =      is_3(valid_3_tens).float() .mean()\n",
    "accuracy_7s = (1 - is_3(valid_7_tens).float()).mean()\n",
    "\n",
    "accuracy_3s,accuracy_7s,(accuracy_3s+accuracy_7s)/2"
   ]
  },
  {
   "cell_type": "markdown",
   "id": "29ed0a95-21f2-43d5-981b-bb30b3dc634a",
   "metadata": {
    "tags": []
   },
   "source": [
    "### 확률적 경사 하강법"
   ]
  },
  {
   "cell_type": "code",
   "execution_count": 48,
   "id": "96572de0-1f3e-449a-bde8-03a82f5a2072",
   "metadata": {},
   "outputs": [],
   "source": [
    "def pr_eight(x,w): return (x*w).sum()"
   ]
  },
  {
   "cell_type": "code",
   "execution_count": 49,
   "id": "273871a0-4504-4a2b-978f-590138f82faf",
   "metadata": {},
   "outputs": [],
   "source": [
    "def f(x): return x**2"
   ]
  },
  {
   "cell_type": "code",
   "execution_count": 64,
   "id": "689c5652-3c7d-4852-8440-8d4cad88025f",
   "metadata": {},
   "outputs": [],
   "source": [
    "from fastbook import *"
   ]
  },
  {
   "cell_type": "code",
   "execution_count": 65,
   "id": "352501fa-0742-4501-a765-0257ee365ce5",
   "metadata": {},
   "outputs": [
    {
     "data": {
      "image/png": "[encoded data removed]",
      "text/plain": [
       "<Figure size 600x400 with 1 Axes>"
      ]
     },
     "metadata": {},
     "output_type": "display_data"
    }
   ],
   "source": [
    "plot_function(f, 'x', 'x**2')"
   ]
  },
  {
   "cell_type": "code",
   "execution_count": 66,
   "id": "5a556aa8-a6a9-4922-a313-97dda38962d9",
   "metadata": {},
   "outputs": [
    {
     "data": {
      "image/png": "[encoded data removed]",
      "text/plain": [
       "<Figure size 600x400 with 1 Axes>"
      ]
     },
     "metadata": {},
     "output_type": "display_data"
    }
   ],
   "source": [
    "plot_function(f, 'x', 'x**2')\n",
    "plt.scatter(-1.5, f(-1.5), color='red');"
   ]
  },
  {
   "cell_type": "markdown",
   "id": "9d36ef7a-efe6-46a6-80f8-80b0f34cee1c",
   "metadata": {
    "tags": []
   },
   "source": [
    "#### 그레디언트 계산"
   ]
  },
  {
   "cell_type": "code",
   "execution_count": 67,
   "id": "9e8d036b-0696-4fcf-9c9e-a9e3d2e8fa33",
   "metadata": {},
   "outputs": [],
   "source": [
    "xt = tensor(3.).requires_grad_()"
   ]
  },
  {
   "cell_type": "code",
   "execution_count": 68,
   "id": "63a9b29c-eba5-43df-8a7b-c598818603da",
   "metadata": {},
   "outputs": [
    {
     "data": {
      "text/plain": [
       "tensor(9., grad_fn=<PowBackward0>)"
      ]
     },
     "execution_count": 68,
     "metadata": {},
     "output_type": "execute_result"
    }
   ],
   "source": [
    "yt = f(xt)\n",
    "yt"
   ]
  },
  {
   "cell_type": "code",
   "execution_count": 69,
   "id": "ff081cfc-cca8-458a-8870-7f38db63c3da",
   "metadata": {},
   "outputs": [],
   "source": [
    "yt.backward()"
   ]
  },
  {
   "cell_type": "code",
   "execution_count": 70,
   "id": "b34806e7-2a8d-45d6-a2d8-d56f92296991",
   "metadata": {},
   "outputs": [
    {
     "data": {
      "text/plain": [
       "tensor(6.)"
      ]
     },
     "execution_count": 70,
     "metadata": {},
     "output_type": "execute_result"
    }
   ],
   "source": [
    "xt.grad"
   ]
  },
  {
   "cell_type": "code",
   "execution_count": 71,
   "id": "23d18492-5c51-4105-8466-76fff6cddaf9",
   "metadata": {},
   "outputs": [
    {
     "data": {
      "text/plain": [
       "tensor([ 3.,  4., 10.], requires_grad=True)"
      ]
     },
     "execution_count": 71,
     "metadata": {},
     "output_type": "execute_result"
    }
   ],
   "source": [
    "xt = tensor([3.,4.,10.]).requires_grad_()\n",
    "xt"
   ]
  },
  {
   "cell_type": "code",
   "execution_count": 72,
   "id": "cc125cac-5ba9-4a9f-8853-cb7e9f7d3daf",
   "metadata": {},
   "outputs": [
    {
     "data": {
      "text/plain": [
       "tensor(125., grad_fn=<SumBackward0>)"
      ]
     },
     "execution_count": 72,
     "metadata": {},
     "output_type": "execute_result"
    }
   ],
   "source": [
    "def f(x): return (x**2).sum()\n",
    "\n",
    "yt = f(xt)\n",
    "yt"
   ]
  },
  {
   "cell_type": "code",
   "execution_count": 73,
   "id": "9217adba-e2a8-46b9-9e6f-8ec0088d1bf5",
   "metadata": {},
   "outputs": [
    {
     "data": {
      "text/plain": [
       "tensor([ 6.,  8., 20.])"
      ]
     },
     "execution_count": 73,
     "metadata": {},
     "output_type": "execute_result"
    }
   ],
   "source": [
    "yt.backward()\n",
    "xt.grad"
   ]
  },
  {
   "cell_type": "markdown",
   "id": "9a1d4a27-ddab-4b6c-93e1-e8f7b1dc8c16",
   "metadata": {
    "tags": []
   },
   "source": [
    "#### SGD 활용"
   ]
  },
  {
   "cell_type": "code",
   "execution_count": 75,
   "id": "e69bc097-06a1-4afa-9994-42110e5fdaef",
   "metadata": {},
   "outputs": [
    {
     "data": {
      "text/plain": [
       "tensor([ 0.,  1.,  2.,  3.,  4.,  5.,  6.,  7.,  8.,  9., 10., 11., 12., 13., 14., 15., 16., 17., 18., 19.])"
      ]
     },
     "execution_count": 75,
     "metadata": {},
     "output_type": "execute_result"
    }
   ],
   "source": [
    "time = torch.arange(0,20).float(); time"
   ]
  },
  {
   "cell_type": "code",
   "execution_count": 76,
   "id": "87b5ba2e-2a97-4f4d-9cbe-f89e580d091c",
   "metadata": {},
   "outputs": [
    {
     "data": {
      "image/png": "[encoded data removed]",
      "text/plain": [
       "<Figure size 640x480 with 1 Axes>"
      ]
     },
     "metadata": {},
     "output_type": "display_data"
    }
   ],
   "source": [
    "speed = torch.randn(20)*3 + 0.75*(time-9.5)**2 + 1\n",
    "plt.scatter(time,speed);"
   ]
  },
  {
   "cell_type": "code",
   "execution_count": 77,
   "id": "fb04b2b6-51fd-4b22-a00f-2b45c53591ba",
   "metadata": {},
   "outputs": [],
   "source": [
    "def f(t, params):\n",
    "    a,b,c = params\n",
    "    return a*(t**2) + (b*t) + c"
   ]
  },
  {
   "cell_type": "code",
   "execution_count": 78,
   "id": "c9d111a0-627d-49a9-bea8-013315ed9f2e",
   "metadata": {},
   "outputs": [],
   "source": [
    "def mse(preds, targets): return ((preds-targets)**2).mean()"
   ]
  },
  {
   "cell_type": "markdown",
   "id": "b42d0e38-4682-4810-8944-c5614f824d2d",
   "metadata": {},
   "source": [
    "##### 1단계: 파라미터 초기화"
   ]
  },
  {
   "cell_type": "code",
   "execution_count": 79,
   "id": "3ed5a0e7-df31-4193-885a-665ba6304616",
   "metadata": {},
   "outputs": [],
   "source": [
    "params = torch.randn(3).requires_grad_()"
   ]
  },
  {
   "cell_type": "code",
   "execution_count": 80,
   "id": "7a9e0bab-d9bb-4645-ad18-ba002692911a",
   "metadata": {},
   "outputs": [],
   "source": [
    "orig_params = params.clone()"
   ]
  },
  {
   "cell_type": "markdown",
   "id": "51cf9219-2abd-45cb-aea7-d2a59987d75f",
   "metadata": {},
   "source": [
    "##### 2단계: 예측 계산"
   ]
  },
  {
   "cell_type": "code",
   "execution_count": 81,
   "id": "5c95537b-e9dc-4c1a-ae8b-9ec93aeed415",
   "metadata": {},
   "outputs": [],
   "source": [
    "preds = f(time, params)"
   ]
  },
  {
   "cell_type": "code",
   "execution_count": 82,
   "id": "4c52b0cf-ed12-4e3b-babe-aa624f673690",
   "metadata": {},
   "outputs": [],
   "source": [
    "def show_preds(preds, ax=None):\n",
    "    if ax is None: ax=plt.subplots()[1]\n",
    "    ax.scatter(time, speed)\n",
    "    ax.scatter(time, to_np(preds), color='red')\n",
    "    ax.set_ylim(-300,100)"
   ]
  },
  {
   "cell_type": "code",
   "execution_count": 83,
   "id": "fe86410e-5c6d-4b73-a007-4023030e71d7",
   "metadata": {},
   "outputs": [
    {
     "data": {
      "image/png": "[encoded data removed]",
      "text/plain": [
       "<Figure size 640x480 with 1 Axes>"
      ]
     },
     "metadata": {},
     "output_type": "display_data"
    }
   ],
   "source": [
    "show_preds(preds)"
   ]
  },
  {
   "cell_type": "markdown",
   "id": "085b6733-2ffc-4024-904e-a0e0482fd446",
   "metadata": {},
   "source": [
    "##### 3단계: 손실 계산"
   ]
  },
  {
   "cell_type": "code",
   "execution_count": 84,
   "id": "8021fce8-3fb6-4543-a2a9-068ad6063b6f",
   "metadata": {},
   "outputs": [
    {
     "data": {
      "text/plain": [
       "tensor(25823.8086, grad_fn=<MeanBackward0>)"
      ]
     },
     "execution_count": 84,
     "metadata": {},
     "output_type": "execute_result"
    }
   ],
   "source": [
    "loss = mse(preds, speed)\n",
    "loss"
   ]
  },
  {
   "cell_type": "markdown",
   "id": "827c3d5a-af6b-4129-8107-f7d771353ab4",
   "metadata": {},
   "source": [
    "##### 4단계: 그레이디언트 계산"
   ]
  },
  {
   "cell_type": "code",
   "execution_count": 85,
   "id": "74ae0638-2980-4a3c-8a68-1f0281d4f37d",
   "metadata": {},
   "outputs": [
    {
     "data": {
      "text/plain": [
       "tensor([-53195.8633,  -3419.7148,   -253.8908])"
      ]
     },
     "execution_count": 85,
     "metadata": {},
     "output_type": "execute_result"
    }
   ],
   "source": [
    "loss.backward()\n",
    "params.grad"
   ]
  },
  {
   "cell_type": "code",
   "execution_count": 86,
   "id": "44e59f3b-3332-4501-af07-d9e20e5395a1",
   "metadata": {},
   "outputs": [
    {
     "data": {
      "text/plain": [
       "tensor([-0.5320, -0.0342, -0.0025])"
      ]
     },
     "execution_count": 86,
     "metadata": {},
     "output_type": "execute_result"
    }
   ],
   "source": [
    "params.grad * 1e-5"
   ]
  },
  {
   "cell_type": "code",
   "execution_count": 87,
   "id": "9a570cd6-992d-456b-9d7c-20f964d0e82b",
   "metadata": {},
   "outputs": [
    {
     "data": {
      "text/plain": [
       "tensor([-0.7658, -0.7506,  1.3525], requires_grad=True)"
      ]
     },
     "execution_count": 87,
     "metadata": {},
     "output_type": "execute_result"
    }
   ],
   "source": [
    "params"
   ]
  },
  {
   "cell_type": "markdown",
   "id": "ff4c74bf-4142-49a0-8beb-b1f2e54427e8",
   "metadata": {},
   "source": [
    "##### 5단계: 가중치를 한 단계 갱신하기"
   ]
  },
  {
   "cell_type": "code",
   "execution_count": 88,
   "id": "f42e0196-550f-49f8-80c0-0800ef237fac",
   "metadata": {},
   "outputs": [],
   "source": [
    "lr = 1e-5\n",
    "params.data -= lr * params.grad.data\n",
    "params.grad = None"
   ]
  },
  {
   "cell_type": "code",
   "execution_count": 89,
   "id": "a7fdd110-a336-4afb-bb09-2632a078bfe7",
   "metadata": {},
   "outputs": [
    {
     "data": {
      "text/plain": [
       "tensor(5435.5356, grad_fn=<MeanBackward0>)"
      ]
     },
     "execution_count": 89,
     "metadata": {},
     "output_type": "execute_result"
    }
   ],
   "source": [
    "preds = f(time,params)\n",
    "mse(preds, speed)"
   ]
  },
  {
   "cell_type": "code",
   "execution_count": 90,
   "id": "73f63b56-b8a8-463a-affb-49113ec93181",
   "metadata": {},
   "outputs": [
    {
     "data": {
      "image/png": "[encoded data removed]",
      "text/plain": [
       "<Figure size 640x480 with 1 Axes>"
      ]
     },
     "metadata": {},
     "output_type": "display_data"
    }
   ],
   "source": [
    "show_preds(preds)"
   ]
  },
  {
   "cell_type": "code",
   "execution_count": 91,
   "id": "d7ebc657-af9a-4ffa-934f-9e13c050814f",
   "metadata": {},
   "outputs": [],
   "source": [
    "def apply_step(params, prn=True):\n",
    "    preds = f(time, params)\n",
    "    loss = mse(preds, speed)\n",
    "    loss.backward()\n",
    "    params.data -= lr * params.grad.data\n",
    "    params.grad = None\n",
    "    if prn: print(loss.item())\n",
    "    return preds"
   ]
  },
  {
   "cell_type": "markdown",
   "id": "a910054b-aa72-4998-b8ab-92fcc93b2522",
   "metadata": {},
   "source": [
    "##### 6단계: 과정 반복하기"
   ]
  },
  {
   "cell_type": "code",
   "execution_count": 92,
   "id": "8b49cb27-d72b-4031-afc7-54634dad4622",
   "metadata": {},
   "outputs": [
    {
     "name": "stdout",
     "output_type": "stream",
     "text": [
      "5435.53564453125\n",
      "1577.44921875\n",
      "847.3778076171875\n",
      "709.2225341796875\n",
      "683.0758056640625\n",
      "678.1243896484375\n",
      "677.1838989257812\n",
      "677.0023803710938\n",
      "676.9645385742188\n",
      "676.9537353515625\n"
     ]
    }
   ],
   "source": [
    "for i in range(10): apply_step(params)"
   ]
  },
  {
   "cell_type": "code",
   "execution_count": 93,
   "id": "3815f641-a045-4c63-94bc-faddcc402181",
   "metadata": {},
   "outputs": [],
   "source": [
    "params = orig_params.detach().requires_grad_()"
   ]
  },
  {
   "cell_type": "code",
   "execution_count": 94,
   "id": "19f5aec9-d2b7-4755-b1b4-1046d6732c6d",
   "metadata": {},
   "outputs": [
    {
     "data": {
      "image/png": "[encoded data removed]",
      "text/plain": [
       "<Figure size 1200x300 with 4 Axes>"
      ]
     },
     "metadata": {},
     "output_type": "display_data"
    }
   ],
   "source": [
    "_,axs = plt.subplots(1,4,figsize=(12,3))\n",
    "for ax in axs: show_preds(apply_step(params, False), ax)\n",
    "plt.tight_layout()"
   ]
  },
  {
   "cell_type": "markdown",
   "id": "a5e7dbea-0c19-4f15-8ba5-ac63a9bd2f46",
   "metadata": {
    "tags": []
   },
   "source": [
    "### MNIST 손실 함수"
   ]
  },
  {
   "cell_type": "code",
   "execution_count": 95,
   "id": "c0e0a2aa-9cd6-49c0-9217-69c5c5d5fb3a",
   "metadata": {},
   "outputs": [],
   "source": [
    "train_x = torch.cat([stacked_threes, stacked_sevens]).view(-1, 28*28)"
   ]
  },
  {
   "cell_type": "code",
   "execution_count": 96,
   "id": "1357f0a8-d37d-4d27-990a-f99299ab5970",
   "metadata": {},
   "outputs": [
    {
     "data": {
      "text/plain": [
       "(torch.Size([12396, 784]), torch.Size([12396, 1]))"
      ]
     },
     "execution_count": 96,
     "metadata": {},
     "output_type": "execute_result"
    }
   ],
   "source": [
    "train_y = tensor([1]*len(threes) + [0]*len(sevens)).unsqueeze(1)\n",
    "train_x.shape,train_y.shape"
   ]
  },
  {
   "cell_type": "code",
   "execution_count": 97,
   "id": "510b2327-a86e-4a01-9536-ee4337f3b510",
   "metadata": {},
   "outputs": [
    {
     "data": {
      "text/plain": [
       "(torch.Size([784]), tensor([1]))"
      ]
     },
     "execution_count": 97,
     "metadata": {},
     "output_type": "execute_result"
    }
   ],
   "source": [
    "dset = list(zip(train_x,train_y))\n",
    "x,y = dset[0]\n",
    "x.shape,y"
   ]
  },
  {
   "cell_type": "code",
   "execution_count": 98,
   "id": "15a6e6fe-858e-41dd-89c1-dd27e56dad25",
   "metadata": {},
   "outputs": [],
   "source": [
    "valid_x = torch.cat([valid_3_tens, valid_7_tens]).view(-1, 28*28)\n",
    "valid_y = tensor([1]*len(valid_3_tens) + [0]*len(valid_7_tens)).unsqueeze(1)\n",
    "valid_dset = list(zip(valid_x,valid_y))"
   ]
  },
  {
   "cell_type": "code",
   "execution_count": 99,
   "id": "2178f90f-3254-4ced-8e77-4f091cac7071",
   "metadata": {},
   "outputs": [],
   "source": [
    "def init_params(size, std=1.0): return (torch.randn(size)*std).requires_grad_()"
   ]
  },
  {
   "cell_type": "code",
   "execution_count": 100,
   "id": "317ece8c-30fa-4f71-bf5b-a20196364ba3",
   "metadata": {},
   "outputs": [],
   "source": [
    "weights = init_params((28*28,1))"
   ]
  },
  {
   "cell_type": "code",
   "execution_count": 101,
   "id": "f6d5274e-85e5-4d91-9677-e10b4abe9034",
   "metadata": {},
   "outputs": [],
   "source": [
    "bias = init_params(1)"
   ]
  },
  {
   "cell_type": "code",
   "execution_count": 102,
   "id": "c3dd3f78-926e-41cf-9534-1cdb86c44fdb",
   "metadata": {},
   "outputs": [
    {
     "data": {
      "text/plain": [
       "tensor([20.2336], grad_fn=<AddBackward0>)"
      ]
     },
     "execution_count": 102,
     "metadata": {},
     "output_type": "execute_result"
    }
   ],
   "source": [
    "(train_x[0]*weights.T).sum() + bias"
   ]
  },
  {
   "cell_type": "code",
   "execution_count": 103,
   "id": "367c414d-e3d1-4566-9436-db18042955d6",
   "metadata": {},
   "outputs": [
    {
     "data": {
      "text/plain": [
       "tensor([[20.2336],\n",
       "        [17.0644],\n",
       "        [15.2384],\n",
       "        ...,\n",
       "        [18.3804],\n",
       "        [23.8567],\n",
       "        [28.6816]], grad_fn=<AddBackward0>)"
      ]
     },
     "execution_count": 103,
     "metadata": {},
     "output_type": "execute_result"
    }
   ],
   "source": [
    "def linear1(xb): return xb@weights + bias\n",
    "preds = linear1(train_x)\n",
    "preds"
   ]
  },
  {
   "cell_type": "code",
   "execution_count": 104,
   "id": "d5215d03-42cc-43eb-87f2-eb0922e217d9",
   "metadata": {},
   "outputs": [
    {
     "data": {
      "text/plain": [
       "tensor([[ True],\n",
       "        [ True],\n",
       "        [ True],\n",
       "        ...,\n",
       "        [False],\n",
       "        [False],\n",
       "        [False]])"
      ]
     },
     "execution_count": 104,
     "metadata": {},
     "output_type": "execute_result"
    }
   ],
   "source": [
    "corrects = (preds>0.0).float() == train_y\n",
    "corrects"
   ]
  },
  {
   "cell_type": "code",
   "execution_count": 105,
   "id": "5490097f-1f7f-44d5-9b2a-ec7a3685211e",
   "metadata": {},
   "outputs": [
    {
     "data": {
      "text/plain": [
       "0.4912068545818329"
      ]
     },
     "execution_count": 105,
     "metadata": {},
     "output_type": "execute_result"
    }
   ],
   "source": [
    "corrects.float().mean().item()"
   ]
  },
  {
   "cell_type": "code",
   "execution_count": 106,
   "id": "5f2b80d0-ba9e-4072-8880-12a4544942bf",
   "metadata": {},
   "outputs": [],
   "source": [
    "with torch.no_grad(): weights[0] *= 1.0001"
   ]
  },
  {
   "cell_type": "code",
   "execution_count": 107,
   "id": "e1a04357-37f4-4054-8361-c26c2f800335",
   "metadata": {},
   "outputs": [
    {
     "data": {
      "text/plain": [
       "0.4912068545818329"
      ]
     },
     "execution_count": 107,
     "metadata": {},
     "output_type": "execute_result"
    }
   ],
   "source": [
    "preds = linear1(train_x)\n",
    "((preds>0.0).float() == train_y).float().mean().item()"
   ]
  },
  {
   "cell_type": "code",
   "execution_count": 108,
   "id": "03fd3b3e-145f-41f0-b16f-6164c141503c",
   "metadata": {},
   "outputs": [],
   "source": [
    "trgts  = tensor([1,0,1])\n",
    "prds   = tensor([0.9, 0.4, 0.2])"
   ]
  },
  {
   "cell_type": "code",
   "execution_count": 109,
   "id": "12d1f3d3-4345-44f4-afd3-e4865a9e6d11",
   "metadata": {},
   "outputs": [],
   "source": [
    "def mnist_loss(predictions, targets):\n",
    "    return torch.where(targets==1, 1-predictions, predictions).mean()"
   ]
  },
  {
   "cell_type": "code",
   "execution_count": 110,
   "id": "09744c47-25f0-4662-9b70-f931ad8d8cdc",
   "metadata": {},
   "outputs": [
    {
     "data": {
      "text/plain": [
       "tensor([0.1000, 0.4000, 0.8000])"
      ]
     },
     "execution_count": 110,
     "metadata": {},
     "output_type": "execute_result"
    }
   ],
   "source": [
    "torch.where(trgts==1, 1-prds, prds)"
   ]
  },
  {
   "cell_type": "code",
   "execution_count": 111,
   "id": "41ebc3ae-8d1a-4bab-a0dc-3e3a76b5fef7",
   "metadata": {},
   "outputs": [
    {
     "data": {
      "text/plain": [
       "tensor(0.4333)"
      ]
     },
     "execution_count": 111,
     "metadata": {},
     "output_type": "execute_result"
    }
   ],
   "source": [
    "mnist_loss(prds,trgts)"
   ]
  },
  {
   "cell_type": "code",
   "execution_count": 112,
   "id": "8361a9bc-4085-47eb-91c3-431a5ad399ce",
   "metadata": {},
   "outputs": [
    {
     "data": {
      "text/plain": [
       "tensor(0.2333)"
      ]
     },
     "execution_count": 112,
     "metadata": {},
     "output_type": "execute_result"
    }
   ],
   "source": [
    "mnist_loss(tensor([0.9, 0.4, 0.8]),trgts)"
   ]
  },
  {
   "cell_type": "markdown",
   "id": "3b21f61c-6ae4-446d-8e09-b0c422b5b0ce",
   "metadata": {},
   "source": [
    "#### 시그모이드"
   ]
  },
  {
   "cell_type": "code",
   "execution_count": 113,
   "id": "997398dd-6818-420b-9daf-4d62ccf0014a",
   "metadata": {},
   "outputs": [],
   "source": [
    "def sigmoid(x): return 1/(1+torch.exp(-x))"
   ]
  },
  {
   "cell_type": "code",
   "execution_count": 114,
   "id": "5cffa93e-3f2d-47bc-9adc-9b2dd713d81a",
   "metadata": {},
   "outputs": [
    {
     "data": {
      "image/png": "[encoded data removed]",
      "text/plain": [
       "<Figure size 600x400 with 1 Axes>"
      ]
     },
     "metadata": {},
     "output_type": "display_data"
    }
   ],
   "source": [
    "plot_function(torch.sigmoid, title='Sigmoid', min=-4, max=4)"
   ]
  },
  {
   "cell_type": "code",
   "execution_count": 115,
   "id": "9c635c86-ddda-4354-90fb-418d78894da4",
   "metadata": {},
   "outputs": [],
   "source": [
    "def mnist_loss(predictions, targets):\n",
    "    predictions = predictions.sigmoid()\n",
    "    return torch.where(targets==1, 1-predictions, predictions).mean()"
   ]
  },
  {
   "cell_type": "markdown",
   "id": "abd5ef9e-74bb-4b78-bbaa-ba438a7ad2ac",
   "metadata": {},
   "source": [
    "#### SGD와 미니배치"
   ]
  },
  {
   "cell_type": "code",
   "execution_count": 116,
   "id": "04eeb314-bb7b-4c2d-81e5-b845393fd2a8",
   "metadata": {},
   "outputs": [
    {
     "data": {
      "text/plain": [
       "[tensor([ 3, 12,  8, 10,  2]),\n",
       " tensor([ 9,  4,  7, 14,  5]),\n",
       " tensor([ 1, 13,  0,  6, 11])]"
      ]
     },
     "execution_count": 116,
     "metadata": {},
     "output_type": "execute_result"
    }
   ],
   "source": [
    "coll = range(15)\n",
    "dl = DataLoader(coll, batch_size=5, shuffle=True)\n",
    "list(dl)"
   ]
  },
  {
   "cell_type": "code",
   "execution_count": 117,
   "id": "8a679584-848f-47d9-af1c-810eb192edc6",
   "metadata": {},
   "outputs": [
    {
     "data": {
      "text/plain": [
       "(#26) [(0, 'a'),(1, 'b'),(2, 'c'),(3, 'd'),(4, 'e'),(5, 'f'),(6, 'g'),(7, 'h'),(8, 'i'),(9, 'j')...]"
      ]
     },
     "execution_count": 117,
     "metadata": {},
     "output_type": "execute_result"
    }
   ],
   "source": [
    "ds = L(enumerate(string.ascii_lowercase))\n",
    "ds"
   ]
  },
  {
   "cell_type": "code",
   "execution_count": 118,
   "id": "600f57cf-166c-42c9-ba07-fda6f2f987a1",
   "metadata": {},
   "outputs": [
    {
     "data": {
      "text/plain": [
       "[(tensor([17, 18, 10, 22,  8, 14]), ('r', 's', 'k', 'w', 'i', 'o')),\n",
       " (tensor([20, 15,  9, 13, 21, 12]), ('u', 'p', 'j', 'n', 'v', 'm')),\n",
       " (tensor([ 7, 25,  6,  5, 11, 23]), ('h', 'z', 'g', 'f', 'l', 'x')),\n",
       " (tensor([ 1,  3,  0, 24, 19, 16]), ('b', 'd', 'a', 'y', 't', 'q')),\n",
       " (tensor([2, 4]), ('c', 'e'))]"
      ]
     },
     "execution_count": 118,
     "metadata": {},
     "output_type": "execute_result"
    }
   ],
   "source": [
    "dl = DataLoader(ds, batch_size=6, shuffle=True)\n",
    "list(dl)"
   ]
  },
  {
   "cell_type": "markdown",
   "id": "63cd25fd-7021-43d6-b361-44b6058286f3",
   "metadata": {},
   "source": [
    "### 모든 것을 한 자리에"
   ]
  },
  {
   "cell_type": "code",
   "execution_count": 140,
   "id": "ca199560-9747-4edc-9aef-158436dbd87b",
   "metadata": {},
   "outputs": [],
   "source": [
    "weights = init_params((28*28,1)) #파라미터 초기화\n",
    "bias = init_params(1)"
   ]
  },
  {
   "cell_type": "code",
   "execution_count": 121,
   "id": "437e0cfb-e5b5-41b2-9c84-e7afa2823c8c",
   "metadata": {},
   "outputs": [
    {
     "data": {
      "text/plain": [
       "(torch.Size([256, 784]), torch.Size([256, 1]))"
      ]
     },
     "execution_count": 121,
     "metadata": {},
     "output_type": "execute_result"
    }
   ],
   "source": [
    "dl = DataLoader(dset, batch_size=256)\n",
    "xb,yb = first(dl)\n",
    "xb.shape,yb.shape"
   ]
  },
  {
   "cell_type": "code",
   "execution_count": 141,
   "id": "eb6bba61-332d-4698-b7d8-20fbb8b9c27a",
   "metadata": {},
   "outputs": [],
   "source": [
    "valid_dl = DataLoader(valid_dset, batch_size=256) #크기가 4인 batch를 만들고 간단한 검사"
   ]
  },
  {
   "cell_type": "code",
   "execution_count": 142,
   "id": "3cca7f6a-e3b2-4654-902e-f1d99f480f5e",
   "metadata": {},
   "outputs": [
    {
     "data": {
      "text/plain": [
       "torch.Size([4, 784])"
      ]
     },
     "execution_count": 142,
     "metadata": {},
     "output_type": "execute_result"
    }
   ],
   "source": [
    "batch = train_x[:4]\n",
    "batch.shape"
   ]
  },
  {
   "cell_type": "code",
   "execution_count": 143,
   "id": "be855a33-4b5a-4621-a651-bd7fe4b3cf0a",
   "metadata": {},
   "outputs": [
    {
     "data": {
      "text/plain": [
       "tensor([[-1.1136],\n",
       "        [-3.7558],\n",
       "        [-6.6971],\n",
       "        [-2.5253]], grad_fn=<AddBackward0>)"
      ]
     },
     "execution_count": 143,
     "metadata": {},
     "output_type": "execute_result"
    }
   ],
   "source": [
    "preds = linear1(batch)\n",
    "preds"
   ]
  },
  {
   "cell_type": "code",
   "execution_count": 144,
   "id": "09f74952-b3b9-4e7d-b701-87675aafd596",
   "metadata": {},
   "outputs": [
    {
     "data": {
      "text/plain": [
       "tensor(0.9137, grad_fn=<MeanBackward0>)"
      ]
     },
     "execution_count": 144,
     "metadata": {},
     "output_type": "execute_result"
    }
   ],
   "source": [
    "loss = mnist_loss(preds, train_y[:4])\n",
    "loss"
   ]
  },
  {
   "cell_type": "code",
   "execution_count": 145,
   "id": "b19465f1-ee4e-44ab-ab1a-c548cd22698c",
   "metadata": {},
   "outputs": [
    {
     "data": {
      "text/plain": [
       "(torch.Size([784, 1]), tensor(-0.0105), tensor([-0.0696]))"
      ]
     },
     "execution_count": 145,
     "metadata": {},
     "output_type": "execute_result"
    }
   ],
   "source": [
    "loss.backward()\n",
    "weights.grad.shape,weights.grad.mean(),bias.grad #그레이디언트 계산"
   ]
  },
  {
   "cell_type": "code",
   "execution_count": 146,
   "id": "b6b783b4-37c9-42c4-8739-73afcdfbb46e",
   "metadata": {},
   "outputs": [],
   "source": [
    "def calc_grad(xb, yb, model):\n",
    "    preds = model(xb)\n",
    "    loss = mnist_loss(preds, yb)\n",
    "    loss.backward()"
   ]
  },
  {
   "cell_type": "code",
   "execution_count": 147,
   "id": "02b7d891-0cf8-4f01-9436-3734aabf0fec",
   "metadata": {},
   "outputs": [
    {
     "data": {
      "text/plain": [
       "(tensor(-0.0210), tensor([-0.1391]))"
      ]
     },
     "execution_count": 147,
     "metadata": {},
     "output_type": "execute_result"
    }
   ],
   "source": [
    "calc_grad(batch, train_y[:4], linear1)\n",
    "weights.grad.mean(),bias.grad"
   ]
  },
  {
   "cell_type": "code",
   "execution_count": 148,
   "id": "2c2c6ae7-13b3-4dcf-be51-9f7ed02f1bfe",
   "metadata": {},
   "outputs": [
    {
     "data": {
      "text/plain": [
       "(tensor(-0.0315), tensor([-0.2087]))"
      ]
     },
     "execution_count": 148,
     "metadata": {},
     "output_type": "execute_result"
    }
   ],
   "source": [
    "calc_grad(batch, train_y[:4], linear1)\n",
    "weights.grad.mean(),bias.grad"
   ]
  },
  {
   "cell_type": "code",
   "execution_count": 149,
   "id": "baee0a31-819c-41f7-a7e8-32feaaa95772",
   "metadata": {},
   "outputs": [],
   "source": [
    "weights.grad.zero_()\n",
    "bias.grad.zero_();"
   ]
  },
  {
   "cell_type": "code",
   "execution_count": 150,
   "id": "1d90b7d4-ae50-44ab-9e9f-a520bc62f894",
   "metadata": {},
   "outputs": [],
   "source": [
    "def train_epoch(model, lr, params):\n",
    "    for xb,yb in dl:\n",
    "        calc_grad(xb, yb, model)\n",
    "        for p in params:\n",
    "            p.data -= p.grad*lr\n",
    "            p.grad.zero_()"
   ]
  },
  {
   "cell_type": "code",
   "execution_count": 151,
   "id": "bcb11d71-b7e5-4693-ae12-51ece567c6b7",
   "metadata": {},
   "outputs": [
    {
     "data": {
      "text/plain": [
       "tensor([[False],\n",
       "        [False],\n",
       "        [False],\n",
       "        [False]])"
      ]
     },
     "execution_count": 151,
     "metadata": {},
     "output_type": "execute_result"
    }
   ],
   "source": [
    "(preds>0.0).float() == train_y[:4]"
   ]
  },
  {
   "cell_type": "code",
   "execution_count": 152,
   "id": "b7e595f0-31ac-4ffd-aa51-a01f397acb5d",
   "metadata": {},
   "outputs": [],
   "source": [
    "def batch_accuracy(xb, yb):\n",
    "    preds = xb.sigmoid()\n",
    "    correct = (preds>0.5) == yb\n",
    "    return correct.float().mean()"
   ]
  },
  {
   "cell_type": "code",
   "execution_count": 153,
   "id": "c87cbb84-dabb-4bf8-9bff-e663e82133bb",
   "metadata": {},
   "outputs": [
    {
     "data": {
      "text/plain": [
       "tensor(0.)"
      ]
     },
     "execution_count": 153,
     "metadata": {},
     "output_type": "execute_result"
    }
   ],
   "source": [
    "batch_accuracy(linear1(batch), train_y[:4])"
   ]
  },
  {
   "cell_type": "code",
   "execution_count": 154,
   "id": "bbb7ff79-0eb2-4c29-bc55-b0c8c1c013e7",
   "metadata": {},
   "outputs": [],
   "source": [
    "def validate_epoch(model):\n",
    "    accs = [batch_accuracy(model(xb), yb) for xb,yb in valid_dl]\n",
    "    return round(torch.stack(accs).mean().item(), 4)"
   ]
  },
  {
   "cell_type": "code",
   "execution_count": 155,
   "id": "cd4131c2-8765-4fe7-ad0a-8ad070e5de3c",
   "metadata": {},
   "outputs": [
    {
     "data": {
      "text/plain": [
       "0.5964"
      ]
     },
     "execution_count": 155,
     "metadata": {},
     "output_type": "execute_result"
    }
   ],
   "source": [
    "validate_epoch(linear1)"
   ]
  },
  {
   "cell_type": "code",
   "execution_count": 156,
   "id": "1b035ff0-fe9d-4fab-9301-6fc57d68bd1b",
   "metadata": {},
   "outputs": [
    {
     "data": {
      "text/plain": [
       "0.6366"
      ]
     },
     "execution_count": 156,
     "metadata": {},
     "output_type": "execute_result"
    }
   ],
   "source": [
    "lr = 1.\n",
    "params = weights,bias\n",
    "train_epoch(linear1, lr, params)\n",
    "validate_epoch(linear1)"
   ]
  },
  {
   "cell_type": "code",
   "execution_count": 139,
   "id": "518a4fde-95b5-4a0d-98be-13c1fa3006d7",
   "metadata": {},
   "outputs": [
    {
     "name": "stdout",
     "output_type": "stream",
     "text": [
      "0.8657 0.9087 0.9253 0.9385 0.9463 0.9531 0.9575 0.9609 0.9619 0.9653 0.9653 0.9668 0.9682 0.9682 0.9687 0.9692 0.9697 0.9702 0.9702 0.9702 "
     ]
    }
   ],
   "source": [
    "for i in range(20):\n",
    "    train_epoch(linear1, lr, params)\n",
    "    print(validate_epoch(linear1), end=' ')"
   ]
  },
  {
   "cell_type": "markdown",
   "id": "11e52145-e28b-4c0c-b33b-f76cdd0b9d46",
   "metadata": {},
   "source": [
    "#### 옵티마이저 만들기"
   ]
  },
  {
   "cell_type": "code",
   "execution_count": 158,
   "id": "67c34cad-6235-46d5-8465-8bb1668e9fd7",
   "metadata": {},
   "outputs": [],
   "source": [
    "linear_model = nn.Linear(28*28,1)"
   ]
  },
  {
   "cell_type": "code",
   "execution_count": 159,
   "id": "dc3400ff-11b5-449a-87ac-a8ce27bec01a",
   "metadata": {},
   "outputs": [
    {
     "data": {
      "text/plain": [
       "(torch.Size([1, 784]), torch.Size([1]))"
      ]
     },
     "execution_count": 159,
     "metadata": {},
     "output_type": "execute_result"
    }
   ],
   "source": [
    "w,b = linear_model.parameters()\n",
    "w.shape,b.shape"
   ]
  },
  {
   "cell_type": "code",
   "execution_count": 160,
   "id": "af695a96-76a4-40c0-a4f7-3e6ab90bf42f",
   "metadata": {},
   "outputs": [],
   "source": [
    "class BasicOptim:\n",
    "    def __init__(self,params,lr): self.params,self.lr = list(params),lr\n",
    "\n",
    "    def step(self, *args, **kwargs):\n",
    "        for p in self.params: p.data -= p.grad.data * self.lr\n",
    "\n",
    "    def zero_grad(self, *args, **kwargs):\n",
    "        for p in self.params: p.grad = None"
   ]
  },
  {
   "cell_type": "code",
   "execution_count": 161,
   "id": "dc33a7f5-c98a-4560-bdf8-58fb5603112f",
   "metadata": {},
   "outputs": [],
   "source": [
    "opt = BasicOptim(linear_model.parameters(), lr)"
   ]
  },
  {
   "cell_type": "code",
   "execution_count": 162,
   "id": "84fd3596-1f10-4d13-8263-d7e3e76d73ad",
   "metadata": {},
   "outputs": [],
   "source": [
    "def train_epoch(model):\n",
    "    for xb,yb in dl:\n",
    "        calc_grad(xb, yb, model)\n",
    "        opt.step()\n",
    "        opt.zero_grad()"
   ]
  },
  {
   "cell_type": "code",
   "execution_count": 163,
   "id": "8393ca2f-8511-4ccc-afee-2a877cddfdb8",
   "metadata": {},
   "outputs": [
    {
     "data": {
      "text/plain": [
       "0.5899"
      ]
     },
     "execution_count": 163,
     "metadata": {},
     "output_type": "execute_result"
    }
   ],
   "source": [
    "validate_epoch(linear_model)"
   ]
  },
  {
   "cell_type": "code",
   "execution_count": 164,
   "id": "69e7ada3-59bf-404e-8d86-3ee5b17dfe7e",
   "metadata": {},
   "outputs": [],
   "source": [
    "def train_model(model, epochs):\n",
    "    for i in range(epochs):\n",
    "        train_epoch(model)\n",
    "        print(validate_epoch(model), end=' ')"
   ]
  },
  {
   "cell_type": "code",
   "execution_count": 165,
   "id": "4c56646d-c484-4e33-ac4f-5bc8079c8025",
   "metadata": {},
   "outputs": [
    {
     "name": "stdout",
     "output_type": "stream",
     "text": [
      "0.4932 0.8496 0.8384 0.9131 0.9346 0.9487 0.9565 0.9629 0.9663 0.9682 0.9697 0.9717 0.9736 0.9751 0.9756 0.9765 0.9775 0.9775 0.978 0.9785 "
     ]
    }
   ],
   "source": [
    "train_model(linear_model, 20)"
   ]
  },
  {
   "cell_type": "code",
   "execution_count": 166,
   "id": "7be75795-9a8a-40ee-92c9-c248952ffbff",
   "metadata": {},
   "outputs": [
    {
     "name": "stdout",
     "output_type": "stream",
     "text": [
      "0.4932 0.8838 0.8145 0.9077 0.9321 0.9468 0.9551 0.9619 0.9658 0.9678 0.9692 0.9717 0.9731 0.9746 0.9756 0.9765 0.9775 0.978 0.9785 0.9785 "
     ]
    }
   ],
   "source": [
    "linear_model = nn.Linear(28*28,1)\n",
    "opt = SGD(linear_model.parameters(), lr)\n",
    "train_model(linear_model, 20)"
   ]
  },
  {
   "cell_type": "code",
   "execution_count": 167,
   "id": "5a3c666d-5a90-4980-8d84-2602ffa0a6d6",
   "metadata": {},
   "outputs": [],
   "source": [
    "dls = DataLoaders(dl, valid_dl)"
   ]
  },
  {
   "cell_type": "code",
   "execution_count": 168,
   "id": "d30b943a-5d7e-48d7-90dd-f21a14c3c5cb",
   "metadata": {},
   "outputs": [],
   "source": [
    "learn = Learner(dls, nn.Linear(28*28,1), opt_func=SGD,\n",
    "                loss_func=mnist_loss, metrics=batch_accuracy)"
   ]
  },
  {
   "cell_type": "code",
   "execution_count": 169,
   "id": "fa55e08e-31dc-4846-958e-6a83d905bd48",
   "metadata": {},
   "outputs": [
    {
     "data": {
      "text/html": [
       "\n",
       "<style>\n",
       "    /* Turns off some styling */\n",
       "    progress {\n",
       "        /* gets rid of default border in Firefox and Opera. */\n",
       "        border: none;\n",
       "        /* Needs to be in here for Safari polyfill so background images work as expected. */\n",
       "        background-size: auto;\n",
       "    }\n",
       "    progress:not([value]), progress:not([value])::-webkit-progress-bar {\n",
       "        background: repeating-linear-gradient(45deg, #7e7e7e, #7e7e7e 10px, #5c5c5c 10px, #5c5c5c 20px);\n",
       "    }\n",
       "    .progress-bar-interrupted, .progress-bar-interrupted::-webkit-progress-bar {\n",
       "        background: #F44336;\n",
       "    }\n",
       "</style>\n"
      ],
      "text/plain": [
       "<IPython.core.display.HTML object>"
      ]
     },
     "metadata": {},
     "output_type": "display_data"
    },
    {
     "data": {
      "text/html": [
       "<table border=\"1\" class=\"dataframe\">\n",
       "  <thead>\n",
       "    <tr style=\"text-align: left;\">\n",
       "      <th>epoch</th>\n",
       "      <th>train_loss</th>\n",
       "      <th>valid_loss</th>\n",
       "      <th>batch_accuracy</th>\n",
       "      <th>time</th>\n",
       "    </tr>\n",
       "  </thead>\n",
       "  <tbody>\n",
       "    <tr>\n",
       "      <td>0</td>\n",
       "      <td>0.636939</td>\n",
       "      <td>0.503614</td>\n",
       "      <td>0.495584</td>\n",
       "      <td>00:00</td>\n",
       "    </tr>\n",
       "    <tr>\n",
       "      <td>1</td>\n",
       "      <td>0.577892</td>\n",
       "      <td>0.158197</td>\n",
       "      <td>0.880275</td>\n",
       "      <td>00:00</td>\n",
       "    </tr>\n",
       "    <tr>\n",
       "      <td>2</td>\n",
       "      <td>0.210439</td>\n",
       "      <td>0.199561</td>\n",
       "      <td>0.817959</td>\n",
       "      <td>00:00</td>\n",
       "    </tr>\n",
       "    <tr>\n",
       "      <td>3</td>\n",
       "      <td>0.091246</td>\n",
       "      <td>0.112298</td>\n",
       "      <td>0.907262</td>\n",
       "      <td>00:00</td>\n",
       "    </tr>\n",
       "    <tr>\n",
       "      <td>4</td>\n",
       "      <td>0.047261</td>\n",
       "      <td>0.080518</td>\n",
       "      <td>0.930815</td>\n",
       "      <td>00:00</td>\n",
       "    </tr>\n",
       "    <tr>\n",
       "      <td>5</td>\n",
       "      <td>0.030128</td>\n",
       "      <td>0.063900</td>\n",
       "      <td>0.945044</td>\n",
       "      <td>00:00</td>\n",
       "    </tr>\n",
       "    <tr>\n",
       "      <td>6</td>\n",
       "      <td>0.023128</td>\n",
       "      <td>0.053654</td>\n",
       "      <td>0.954858</td>\n",
       "      <td>00:00</td>\n",
       "    </tr>\n",
       "    <tr>\n",
       "      <td>7</td>\n",
       "      <td>0.020049</td>\n",
       "      <td>0.046908</td>\n",
       "      <td>0.961236</td>\n",
       "      <td>00:00</td>\n",
       "    </tr>\n",
       "    <tr>\n",
       "      <td>8</td>\n",
       "      <td>0.018508</td>\n",
       "      <td>0.042221</td>\n",
       "      <td>0.964671</td>\n",
       "      <td>00:00</td>\n",
       "    </tr>\n",
       "    <tr>\n",
       "      <td>9</td>\n",
       "      <td>0.017596</td>\n",
       "      <td>0.038799</td>\n",
       "      <td>0.967125</td>\n",
       "      <td>00:00</td>\n",
       "    </tr>\n",
       "  </tbody>\n",
       "</table>"
      ],
      "text/plain": [
       "<IPython.core.display.HTML object>"
      ]
     },
     "metadata": {},
     "output_type": "display_data"
    }
   ],
   "source": [
    "learn.fit(10, lr=lr)"
   ]
  },
  {
   "cell_type": "markdown",
   "id": "7c6f0143-5fce-40a4-aca4-58e0cf2779c5",
   "metadata": {},
   "source": [
    "### 비선형성 추가"
   ]
  },
  {
   "cell_type": "code",
   "execution_count": 170,
   "id": "dcb4596c-da4c-472e-b9d2-80e8609f6a87",
   "metadata": {},
   "outputs": [],
   "source": [
    "def simple_net(xb): \n",
    "    res = xb@w1 + b1\n",
    "    res = res.max(tensor(0.0))\n",
    "    res = res@w2 + b2\n",
    "    return res"
   ]
  },
  {
   "cell_type": "code",
   "execution_count": 171,
   "id": "940ca7c0-bcdb-4ad5-80e4-87a5ba8577fb",
   "metadata": {},
   "outputs": [],
   "source": [
    "w1 = init_params((28*28,30))\n",
    "b1 = init_params(30)\n",
    "w2 = init_params((30,1))\n",
    "b2 = init_params(1)"
   ]
  },
  {
   "cell_type": "code",
   "execution_count": 172,
   "id": "590ebfa9-0dd8-44af-8172-e3f78383a79a",
   "metadata": {},
   "outputs": [
    {
     "data": {
      "image/png": "[encoded data removed]",
      "text/plain": [
       "<Figure size 600x400 with 1 Axes>"
      ]
     },
     "metadata": {},
     "output_type": "display_data"
    }
   ],
   "source": [
    "plot_function(F.relu)"
   ]
  },
  {
   "cell_type": "code",
   "execution_count": 173,
   "id": "29a66a19-a5cd-40af-9602-e0642aa591f8",
   "metadata": {},
   "outputs": [],
   "source": [
    "simple_net = nn.Sequential(\n",
    "    nn.Linear(28*28,30),\n",
    "    nn.ReLU(),\n",
    "    nn.Linear(30,1)\n",
    ")"
   ]
  },
  {
   "cell_type": "code",
   "execution_count": 174,
   "id": "0e2c0f32-fa76-4179-8a41-41f4b82b34e3",
   "metadata": {},
   "outputs": [],
   "source": [
    "learn = Learner(dls, simple_net, opt_func=SGD,\n",
    "                loss_func=mnist_loss, metrics=batch_accuracy)"
   ]
  },
  {
   "cell_type": "code",
   "execution_count": 175,
   "id": "ab38e046-d8ef-428c-b8f2-f7b9145e2b56",
   "metadata": {},
   "outputs": [
    {
     "data": {
      "text/html": [
       "\n",
       "<style>\n",
       "    /* Turns off some styling */\n",
       "    progress {\n",
       "        /* gets rid of default border in Firefox and Opera. */\n",
       "        border: none;\n",
       "        /* Needs to be in here for Safari polyfill so background images work as expected. */\n",
       "        background-size: auto;\n",
       "    }\n",
       "    progress:not([value]), progress:not([value])::-webkit-progress-bar {\n",
       "        background: repeating-linear-gradient(45deg, #7e7e7e, #7e7e7e 10px, #5c5c5c 10px, #5c5c5c 20px);\n",
       "    }\n",
       "    .progress-bar-interrupted, .progress-bar-interrupted::-webkit-progress-bar {\n",
       "        background: #F44336;\n",
       "    }\n",
       "</style>\n"
      ],
      "text/plain": [
       "<IPython.core.display.HTML object>"
      ]
     },
     "metadata": {},
     "output_type": "display_data"
    },
    {
     "data": {
      "text/html": [
       "<table border=\"1\" class=\"dataframe\">\n",
       "  <thead>\n",
       "    <tr style=\"text-align: left;\">\n",
       "      <th>epoch</th>\n",
       "      <th>train_loss</th>\n",
       "      <th>valid_loss</th>\n",
       "      <th>batch_accuracy</th>\n",
       "      <th>time</th>\n",
       "    </tr>\n",
       "  </thead>\n",
       "  <tbody>\n",
       "    <tr>\n",
       "      <td>0</td>\n",
       "      <td>0.321272</td>\n",
       "      <td>0.404518</td>\n",
       "      <td>0.506869</td>\n",
       "      <td>00:00</td>\n",
       "    </tr>\n",
       "    <tr>\n",
       "      <td>1</td>\n",
       "      <td>0.149189</td>\n",
       "      <td>0.231641</td>\n",
       "      <td>0.799804</td>\n",
       "      <td>00:00</td>\n",
       "    </tr>\n",
       "    <tr>\n",
       "      <td>2</td>\n",
       "      <td>0.082450</td>\n",
       "      <td>0.116819</td>\n",
       "      <td>0.916585</td>\n",
       "      <td>00:00</td>\n",
       "    </tr>\n",
       "    <tr>\n",
       "      <td>3</td>\n",
       "      <td>0.054058</td>\n",
       "      <td>0.078837</td>\n",
       "      <td>0.939647</td>\n",
       "      <td>00:00</td>\n",
       "    </tr>\n",
       "    <tr>\n",
       "      <td>4</td>\n",
       "      <td>0.040910</td>\n",
       "      <td>0.061541</td>\n",
       "      <td>0.955348</td>\n",
       "      <td>00:00</td>\n",
       "    </tr>\n",
       "    <tr>\n",
       "      <td>5</td>\n",
       "      <td>0.034198</td>\n",
       "      <td>0.051820</td>\n",
       "      <td>0.962218</td>\n",
       "      <td>00:00</td>\n",
       "    </tr>\n",
       "    <tr>\n",
       "      <td>6</td>\n",
       "      <td>0.030345</td>\n",
       "      <td>0.045692</td>\n",
       "      <td>0.964671</td>\n",
       "      <td>00:00</td>\n",
       "    </tr>\n",
       "    <tr>\n",
       "      <td>7</td>\n",
       "      <td>0.027847</td>\n",
       "      <td>0.041501</td>\n",
       "      <td>0.966634</td>\n",
       "      <td>00:00</td>\n",
       "    </tr>\n",
       "    <tr>\n",
       "      <td>8</td>\n",
       "      <td>0.026048</td>\n",
       "      <td>0.038451</td>\n",
       "      <td>0.968597</td>\n",
       "      <td>00:00</td>\n",
       "    </tr>\n",
       "    <tr>\n",
       "      <td>9</td>\n",
       "      <td>0.024654</td>\n",
       "      <td>0.036121</td>\n",
       "      <td>0.969087</td>\n",
       "      <td>00:00</td>\n",
       "    </tr>\n",
       "    <tr>\n",
       "      <td>10</td>\n",
       "      <td>0.023524</td>\n",
       "      <td>0.034270</td>\n",
       "      <td>0.970559</td>\n",
       "      <td>00:00</td>\n",
       "    </tr>\n",
       "    <tr>\n",
       "      <td>11</td>\n",
       "      <td>0.022579</td>\n",
       "      <td>0.032755</td>\n",
       "      <td>0.971541</td>\n",
       "      <td>00:00</td>\n",
       "    </tr>\n",
       "    <tr>\n",
       "      <td>12</td>\n",
       "      <td>0.021773</td>\n",
       "      <td>0.031482</td>\n",
       "      <td>0.973994</td>\n",
       "      <td>00:00</td>\n",
       "    </tr>\n",
       "    <tr>\n",
       "      <td>13</td>\n",
       "      <td>0.021074</td>\n",
       "      <td>0.030389</td>\n",
       "      <td>0.973994</td>\n",
       "      <td>00:00</td>\n",
       "    </tr>\n",
       "    <tr>\n",
       "      <td>14</td>\n",
       "      <td>0.020461</td>\n",
       "      <td>0.029435</td>\n",
       "      <td>0.974975</td>\n",
       "      <td>00:00</td>\n",
       "    </tr>\n",
       "    <tr>\n",
       "      <td>15</td>\n",
       "      <td>0.019917</td>\n",
       "      <td>0.028592</td>\n",
       "      <td>0.975957</td>\n",
       "      <td>00:00</td>\n",
       "    </tr>\n",
       "    <tr>\n",
       "      <td>16</td>\n",
       "      <td>0.019430</td>\n",
       "      <td>0.027840</td>\n",
       "      <td>0.976448</td>\n",
       "      <td>00:00</td>\n",
       "    </tr>\n",
       "    <tr>\n",
       "      <td>17</td>\n",
       "      <td>0.018991</td>\n",
       "      <td>0.027163</td>\n",
       "      <td>0.976938</td>\n",
       "      <td>00:00</td>\n",
       "    </tr>\n",
       "    <tr>\n",
       "      <td>18</td>\n",
       "      <td>0.018591</td>\n",
       "      <td>0.026552</td>\n",
       "      <td>0.977429</td>\n",
       "      <td>00:00</td>\n",
       "    </tr>\n",
       "    <tr>\n",
       "      <td>19</td>\n",
       "      <td>0.018227</td>\n",
       "      <td>0.025996</td>\n",
       "      <td>0.978410</td>\n",
       "      <td>00:00</td>\n",
       "    </tr>\n",
       "    <tr>\n",
       "      <td>20</td>\n",
       "      <td>0.017891</td>\n",
       "      <td>0.025489</td>\n",
       "      <td>0.978901</td>\n",
       "      <td>00:00</td>\n",
       "    </tr>\n",
       "    <tr>\n",
       "      <td>21</td>\n",
       "      <td>0.017582</td>\n",
       "      <td>0.025025</td>\n",
       "      <td>0.978901</td>\n",
       "      <td>00:00</td>\n",
       "    </tr>\n",
       "    <tr>\n",
       "      <td>22</td>\n",
       "      <td>0.017294</td>\n",
       "      <td>0.024599</td>\n",
       "      <td>0.978901</td>\n",
       "      <td>00:00</td>\n",
       "    </tr>\n",
       "    <tr>\n",
       "      <td>23</td>\n",
       "      <td>0.017027</td>\n",
       "      <td>0.024207</td>\n",
       "      <td>0.979392</td>\n",
       "      <td>00:00</td>\n",
       "    </tr>\n",
       "    <tr>\n",
       "      <td>24</td>\n",
       "      <td>0.016776</td>\n",
       "      <td>0.023844</td>\n",
       "      <td>0.980373</td>\n",
       "      <td>00:00</td>\n",
       "    </tr>\n",
       "    <tr>\n",
       "      <td>25</td>\n",
       "      <td>0.016541</td>\n",
       "      <td>0.023509</td>\n",
       "      <td>0.980373</td>\n",
       "      <td>00:00</td>\n",
       "    </tr>\n",
       "    <tr>\n",
       "      <td>26</td>\n",
       "      <td>0.016319</td>\n",
       "      <td>0.023199</td>\n",
       "      <td>0.980864</td>\n",
       "      <td>00:00</td>\n",
       "    </tr>\n",
       "    <tr>\n",
       "      <td>27</td>\n",
       "      <td>0.016111</td>\n",
       "      <td>0.022910</td>\n",
       "      <td>0.980864</td>\n",
       "      <td>00:00</td>\n",
       "    </tr>\n",
       "    <tr>\n",
       "      <td>28</td>\n",
       "      <td>0.015913</td>\n",
       "      <td>0.022641</td>\n",
       "      <td>0.981354</td>\n",
       "      <td>00:00</td>\n",
       "    </tr>\n",
       "    <tr>\n",
       "      <td>29</td>\n",
       "      <td>0.015726</td>\n",
       "      <td>0.022390</td>\n",
       "      <td>0.981354</td>\n",
       "      <td>00:00</td>\n",
       "    </tr>\n",
       "    <tr>\n",
       "      <td>30</td>\n",
       "      <td>0.015548</td>\n",
       "      <td>0.022156</td>\n",
       "      <td>0.981845</td>\n",
       "      <td>00:00</td>\n",
       "    </tr>\n",
       "    <tr>\n",
       "      <td>31</td>\n",
       "      <td>0.015379</td>\n",
       "      <td>0.021937</td>\n",
       "      <td>0.981845</td>\n",
       "      <td>00:00</td>\n",
       "    </tr>\n",
       "    <tr>\n",
       "      <td>32</td>\n",
       "      <td>0.015218</td>\n",
       "      <td>0.021732</td>\n",
       "      <td>0.981845</td>\n",
       "      <td>00:00</td>\n",
       "    </tr>\n",
       "    <tr>\n",
       "      <td>33</td>\n",
       "      <td>0.015064</td>\n",
       "      <td>0.021539</td>\n",
       "      <td>0.982336</td>\n",
       "      <td>00:00</td>\n",
       "    </tr>\n",
       "    <tr>\n",
       "      <td>34</td>\n",
       "      <td>0.014917</td>\n",
       "      <td>0.021357</td>\n",
       "      <td>0.982336</td>\n",
       "      <td>00:00</td>\n",
       "    </tr>\n",
       "    <tr>\n",
       "      <td>35</td>\n",
       "      <td>0.014776</td>\n",
       "      <td>0.021185</td>\n",
       "      <td>0.982336</td>\n",
       "      <td>00:00</td>\n",
       "    </tr>\n",
       "    <tr>\n",
       "      <td>36</td>\n",
       "      <td>0.014641</td>\n",
       "      <td>0.021023</td>\n",
       "      <td>0.982826</td>\n",
       "      <td>00:00</td>\n",
       "    </tr>\n",
       "    <tr>\n",
       "      <td>37</td>\n",
       "      <td>0.014511</td>\n",
       "      <td>0.020870</td>\n",
       "      <td>0.982826</td>\n",
       "      <td>00:00</td>\n",
       "    </tr>\n",
       "    <tr>\n",
       "      <td>38</td>\n",
       "      <td>0.014385</td>\n",
       "      <td>0.020725</td>\n",
       "      <td>0.982826</td>\n",
       "      <td>00:00</td>\n",
       "    </tr>\n",
       "    <tr>\n",
       "      <td>39</td>\n",
       "      <td>0.014265</td>\n",
       "      <td>0.020587</td>\n",
       "      <td>0.982826</td>\n",
       "      <td>00:00</td>\n",
       "    </tr>\n",
       "  </tbody>\n",
       "</table>"
      ],
      "text/plain": [
       "<IPython.core.display.HTML object>"
      ]
     },
     "metadata": {},
     "output_type": "display_data"
    }
   ],
   "source": [
    "learn.fit(40, 0.1)"
   ]
  },
  {
   "cell_type": "code",
   "execution_count": 176,
   "id": "770a613d-ba26-405b-b301-c9241d35856e",
   "metadata": {},
   "outputs": [
    {
     "data": {
      "image/png": "[encoded data removed]",
      "text/plain": [
       "<Figure size 640x480 with 1 Axes>"
      ]
     },
     "metadata": {},
     "output_type": "display_data"
    }
   ],
   "source": [
    "plt.plot(L(learn.recorder.values).itemgot(2));"
   ]
  },
  {
   "cell_type": "code",
   "execution_count": 177,
   "id": "305ce30c-e617-42cb-ac3b-2011968b25a6",
   "metadata": {},
   "outputs": [
    {
     "data": {
      "text/plain": [
       "0.982826292514801"
      ]
     },
     "execution_count": 177,
     "metadata": {},
     "output_type": "execute_result"
    }
   ],
   "source": [
    "learn.recorder.values[-1][2]"
   ]
  },
  {
   "cell_type": "markdown",
   "id": "90746366-f1e5-406c-a1e0-4cce02c8332c",
   "metadata": {},
   "source": [
    "#### 좀 더 깊은 모델"
   ]
  },
  {
   "cell_type": "code",
   "execution_count": 178,
   "id": "de529c12-1d29-4a20-ae13-e20c13cab616",
   "metadata": {},
   "outputs": [
    {
     "name": "stderr",
     "output_type": "stream",
     "text": [
      "C:\\Users\\user\\.conda\\envs\\geopandas\\lib\\site-packages\\torchvision\\models\\_utils.py:208: UserWarning: The parameter 'pretrained' is deprecated since 0.13 and may be removed in the future, please use 'weights' instead.\n",
      "  warnings.warn(\n",
      "C:\\Users\\user\\.conda\\envs\\geopandas\\lib\\site-packages\\torchvision\\models\\_utils.py:223: UserWarning: Arguments other than a weight enum or `None` for 'weights' are deprecated since 0.13 and may be removed in the future. The current behavior is equivalent to passing `weights=None`.\n",
      "  warnings.warn(msg)\n"
     ]
    },
    {
     "data": {
      "text/html": [
       "\n",
       "<style>\n",
       "    /* Turns off some styling */\n",
       "    progress {\n",
       "        /* gets rid of default border in Firefox and Opera. */\n",
       "        border: none;\n",
       "        /* Needs to be in here for Safari polyfill so background images work as expected. */\n",
       "        background-size: auto;\n",
       "    }\n",
       "    progress:not([value]), progress:not([value])::-webkit-progress-bar {\n",
       "        background: repeating-linear-gradient(45deg, #7e7e7e, #7e7e7e 10px, #5c5c5c 10px, #5c5c5c 20px);\n",
       "    }\n",
       "    .progress-bar-interrupted, .progress-bar-interrupted::-webkit-progress-bar {\n",
       "        background: #F44336;\n",
       "    }\n",
       "</style>\n"
      ],
      "text/plain": [
       "<IPython.core.display.HTML object>"
      ]
     },
     "metadata": {},
     "output_type": "display_data"
    },
    {
     "data": {
      "text/html": [
       "<table border=\"1\" class=\"dataframe\">\n",
       "  <thead>\n",
       "    <tr style=\"text-align: left;\">\n",
       "      <th>epoch</th>\n",
       "      <th>train_loss</th>\n",
       "      <th>valid_loss</th>\n",
       "      <th>accuracy</th>\n",
       "      <th>time</th>\n",
       "    </tr>\n",
       "  </thead>\n",
       "  <tbody>\n",
       "    <tr>\n",
       "      <td>0</td>\n",
       "      <td>0.059654</td>\n",
       "      <td>0.011431</td>\n",
       "      <td>0.997056</td>\n",
       "      <td>03:17</td>\n",
       "    </tr>\n",
       "  </tbody>\n",
       "</table>"
      ],
      "text/plain": [
       "<IPython.core.display.HTML object>"
      ]
     },
     "metadata": {},
     "output_type": "display_data"
    }
   ],
   "source": [
    "dls = ImageDataLoaders.from_folder(path)\n",
    "learn = vision_learner(dls, resnet18, pretrained=False,\n",
    "                    loss_func=F.cross_entropy, metrics=accuracy)\n",
    "learn.fit_one_cycle(1, 0.1)"
   ]
  }
 ],
 "metadata": {
  "kernelspec": {
   "display_name": "geopandas",
   "language": "python",
   "name": "geopandas"
  },
  "language_info": {
   "codemirror_mode": {
    "name": "ipython",
    "version": 3
   },
   "file_extension": ".py",
   "mimetype": "text/x-python",
   "name": "python",
   "nbconvert_exporter": "python",
   "pygments_lexer": "ipython3",
   "version": "3.9.15 (main, Nov  4 2022, 16:35:55) [MSC v.1916 64 bit (AMD64)]"
  }
 },
 "nbformat": 4,
 "nbformat_minor": 5
}
